{
 "cells": [
  {
   "cell_type": "markdown",
   "source": [
    "# Лабораторна робота №3. Варіант 15\n",
    "# Виконав: ІП-13 Ал Хадам Мурат Резгович\n",
    "# Структури даних Pandas\n",
    "\n",
    "## Мета: Ознайомитись з основними структурами даних бібліотеки Pandas: Series DataFrame, операціями над ними. Навчитись використовувати групування.\n",
    "### Завдання:\n",
    "1. Вивести інформацію про набір даних, основні статистичні характеристики, типи ознак. Які ознаки є категоріальними, а які – кількісними?\n",
    "2. За допомогою зрізів зробити копію частини набору даних і зберегти до нового об’єкту DataFrame. Призначити йому власні індекси рядків та стовпців. Додати новий рядок.\n",
    "3. Використовуючи початковий DataFrame:\n",
    "а) Знайти кількість товарів у кожному блоці;\n",
    "б) Вивести товари з середнім пріоритетом, які планується відправити літаком та які були замовлені чоловіками. Знайти загальну вартість цих товарів.\n",
    "в) Додати новий стовпець, який показує, чи знижка на товар більше, ніж по 10 доларів на кожну попередню покупку (наприклад, знижка=20, попередніх покупок – 3, не перевищує).\n",
    "г) Додати новий стовпець, який містить середній рейтинг покупців для товарів у даному блоці."
   ],
   "metadata": {
    "collapsed": false
   }
  },
  {
   "cell_type": "markdown",
   "source": [
    "# 1"
   ],
   "metadata": {
    "collapsed": false
   }
  },
  {
   "cell_type": "code",
   "execution_count": 30,
   "metadata": {
    "collapsed": true,
    "ExecuteTime": {
     "end_time": "2023-11-14T22:21:40.421571700Z",
     "start_time": "2023-11-14T22:21:40.217150900Z"
    }
   },
   "outputs": [
    {
     "data": {
      "text/plain": "        ID Warehouse_block Mode_of_Shipment  Customer_care_calls  \\\n0        1               D           Flight                    4   \n1        2               F           Flight                    4   \n2        3               A           Flight                    2   \n3        4               B           Flight                    3   \n4        5               C           Flight                    2   \n...    ...             ...              ...                  ...   \n1452  1453               D             Ship                    4   \n1453  1454               F             Ship                    6   \n1454  1455               A             Ship                    3   \n1455  1456               B             Ship                    4   \n1456  1457               C             Ship                    3   \n\n      Customer_rating  Cost_of_the_Product  Prior_purchases  \\\n0                   2                  177                3   \n1                   5                  216                2   \n2                   2                  183                4   \n3                   3                  176                4   \n4                   2                  184                3   \n...               ...                  ...              ...   \n1452                5                  143                3   \n1453                3                  223                6   \n1454                5                  230                2   \n1455                5                  241                4   \n1456                5                  156                3   \n\n     Product_importance Gender  Discount_offered  Weight_in_gms  \\\n0                   low      F                44           1233   \n1                   low      M                59           3088   \n2                   low      M                48           3374   \n3                medium      M                10           1177   \n4                medium      F                46           2484   \n...                 ...    ...               ...            ...   \n1452                low      F                48           1922   \n1453             medium      M                29           2980   \n1454                low      M                27           3840   \n1455             medium      M                58           2874   \n1456             medium      M                44           1424   \n\n      Reached.on.Time_Y.N  \n0                       1  \n1                       1  \n2                       1  \n3                       1  \n4                       1  \n...                   ...  \n1452                    1  \n1453                    1  \n1454                    1  \n1455                    1  \n1456                    1  \n\n[1457 rows x 12 columns]",
      "text/html": "<div>\n<style scoped>\n    .dataframe tbody tr th:only-of-type {\n        vertical-align: middle;\n    }\n\n    .dataframe tbody tr th {\n        vertical-align: top;\n    }\n\n    .dataframe thead th {\n        text-align: right;\n    }\n</style>\n<table border=\"1\" class=\"dataframe\">\n  <thead>\n    <tr style=\"text-align: right;\">\n      <th></th>\n      <th>ID</th>\n      <th>Warehouse_block</th>\n      <th>Mode_of_Shipment</th>\n      <th>Customer_care_calls</th>\n      <th>Customer_rating</th>\n      <th>Cost_of_the_Product</th>\n      <th>Prior_purchases</th>\n      <th>Product_importance</th>\n      <th>Gender</th>\n      <th>Discount_offered</th>\n      <th>Weight_in_gms</th>\n      <th>Reached.on.Time_Y.N</th>\n    </tr>\n  </thead>\n  <tbody>\n    <tr>\n      <th>0</th>\n      <td>1</td>\n      <td>D</td>\n      <td>Flight</td>\n      <td>4</td>\n      <td>2</td>\n      <td>177</td>\n      <td>3</td>\n      <td>low</td>\n      <td>F</td>\n      <td>44</td>\n      <td>1233</td>\n      <td>1</td>\n    </tr>\n    <tr>\n      <th>1</th>\n      <td>2</td>\n      <td>F</td>\n      <td>Flight</td>\n      <td>4</td>\n      <td>5</td>\n      <td>216</td>\n      <td>2</td>\n      <td>low</td>\n      <td>M</td>\n      <td>59</td>\n      <td>3088</td>\n      <td>1</td>\n    </tr>\n    <tr>\n      <th>2</th>\n      <td>3</td>\n      <td>A</td>\n      <td>Flight</td>\n      <td>2</td>\n      <td>2</td>\n      <td>183</td>\n      <td>4</td>\n      <td>low</td>\n      <td>M</td>\n      <td>48</td>\n      <td>3374</td>\n      <td>1</td>\n    </tr>\n    <tr>\n      <th>3</th>\n      <td>4</td>\n      <td>B</td>\n      <td>Flight</td>\n      <td>3</td>\n      <td>3</td>\n      <td>176</td>\n      <td>4</td>\n      <td>medium</td>\n      <td>M</td>\n      <td>10</td>\n      <td>1177</td>\n      <td>1</td>\n    </tr>\n    <tr>\n      <th>4</th>\n      <td>5</td>\n      <td>C</td>\n      <td>Flight</td>\n      <td>2</td>\n      <td>2</td>\n      <td>184</td>\n      <td>3</td>\n      <td>medium</td>\n      <td>F</td>\n      <td>46</td>\n      <td>2484</td>\n      <td>1</td>\n    </tr>\n    <tr>\n      <th>...</th>\n      <td>...</td>\n      <td>...</td>\n      <td>...</td>\n      <td>...</td>\n      <td>...</td>\n      <td>...</td>\n      <td>...</td>\n      <td>...</td>\n      <td>...</td>\n      <td>...</td>\n      <td>...</td>\n      <td>...</td>\n    </tr>\n    <tr>\n      <th>1452</th>\n      <td>1453</td>\n      <td>D</td>\n      <td>Ship</td>\n      <td>4</td>\n      <td>5</td>\n      <td>143</td>\n      <td>3</td>\n      <td>low</td>\n      <td>F</td>\n      <td>48</td>\n      <td>1922</td>\n      <td>1</td>\n    </tr>\n    <tr>\n      <th>1453</th>\n      <td>1454</td>\n      <td>F</td>\n      <td>Ship</td>\n      <td>6</td>\n      <td>3</td>\n      <td>223</td>\n      <td>6</td>\n      <td>medium</td>\n      <td>M</td>\n      <td>29</td>\n      <td>2980</td>\n      <td>1</td>\n    </tr>\n    <tr>\n      <th>1454</th>\n      <td>1455</td>\n      <td>A</td>\n      <td>Ship</td>\n      <td>3</td>\n      <td>5</td>\n      <td>230</td>\n      <td>2</td>\n      <td>low</td>\n      <td>M</td>\n      <td>27</td>\n      <td>3840</td>\n      <td>1</td>\n    </tr>\n    <tr>\n      <th>1455</th>\n      <td>1456</td>\n      <td>B</td>\n      <td>Ship</td>\n      <td>4</td>\n      <td>5</td>\n      <td>241</td>\n      <td>4</td>\n      <td>medium</td>\n      <td>M</td>\n      <td>58</td>\n      <td>2874</td>\n      <td>1</td>\n    </tr>\n    <tr>\n      <th>1456</th>\n      <td>1457</td>\n      <td>C</td>\n      <td>Ship</td>\n      <td>3</td>\n      <td>5</td>\n      <td>156</td>\n      <td>3</td>\n      <td>medium</td>\n      <td>M</td>\n      <td>44</td>\n      <td>1424</td>\n      <td>1</td>\n    </tr>\n  </tbody>\n</table>\n<p>1457 rows × 12 columns</p>\n</div>"
     },
     "execution_count": 30,
     "metadata": {},
     "output_type": "execute_result"
    }
   ],
   "source": [
    "import pandas as pd\n",
    "\n",
    "\n",
    "df = pd.read_csv('CommerceShipping.csv')\n",
    "df"
   ]
  },
  {
   "cell_type": "markdown",
   "source": [
    "Основні статистичні характеристики"
   ],
   "metadata": {
    "collapsed": false
   }
  },
  {
   "cell_type": "code",
   "execution_count": 31,
   "outputs": [
    {
     "data": {
      "text/plain": "                ID  Customer_care_calls  Customer_rating  Cost_of_the_Product  \\\ncount  1457.000000          1457.000000      1457.000000          1457.000000   \nmean    729.000000             3.732327         2.986960           194.671929   \nstd     420.743984             1.018917         1.404162            45.940277   \nmin       1.000000             2.000000         1.000000            96.000000   \n25%     365.000000             3.000000         2.000000           157.000000   \n50%     729.000000             4.000000         3.000000           190.000000   \n75%    1093.000000             4.000000         4.000000           234.000000   \nmax    1457.000000             7.000000         5.000000           294.000000   \n\n       Prior_purchases  Discount_offered  Weight_in_gms  Reached.on.Time_Y.N  \ncount      1457.000000       1457.000000    1457.000000               1457.0  \nmean          3.277282         32.793411    2345.960879                  1.0  \nstd           1.424370         18.896276     945.996401                  0.0  \nmin           2.000000          1.000000    1004.000000                  1.0  \n25%           2.000000         16.000000    1549.000000                  1.0  \n50%           3.000000         33.000000    2200.000000                  1.0  \n75%           4.000000         49.000000    3067.000000                  1.0  \nmax          10.000000         65.000000    7846.000000                  1.0  ",
      "text/html": "<div>\n<style scoped>\n    .dataframe tbody tr th:only-of-type {\n        vertical-align: middle;\n    }\n\n    .dataframe tbody tr th {\n        vertical-align: top;\n    }\n\n    .dataframe thead th {\n        text-align: right;\n    }\n</style>\n<table border=\"1\" class=\"dataframe\">\n  <thead>\n    <tr style=\"text-align: right;\">\n      <th></th>\n      <th>ID</th>\n      <th>Customer_care_calls</th>\n      <th>Customer_rating</th>\n      <th>Cost_of_the_Product</th>\n      <th>Prior_purchases</th>\n      <th>Discount_offered</th>\n      <th>Weight_in_gms</th>\n      <th>Reached.on.Time_Y.N</th>\n    </tr>\n  </thead>\n  <tbody>\n    <tr>\n      <th>count</th>\n      <td>1457.000000</td>\n      <td>1457.000000</td>\n      <td>1457.000000</td>\n      <td>1457.000000</td>\n      <td>1457.000000</td>\n      <td>1457.000000</td>\n      <td>1457.000000</td>\n      <td>1457.0</td>\n    </tr>\n    <tr>\n      <th>mean</th>\n      <td>729.000000</td>\n      <td>3.732327</td>\n      <td>2.986960</td>\n      <td>194.671929</td>\n      <td>3.277282</td>\n      <td>32.793411</td>\n      <td>2345.960879</td>\n      <td>1.0</td>\n    </tr>\n    <tr>\n      <th>std</th>\n      <td>420.743984</td>\n      <td>1.018917</td>\n      <td>1.404162</td>\n      <td>45.940277</td>\n      <td>1.424370</td>\n      <td>18.896276</td>\n      <td>945.996401</td>\n      <td>0.0</td>\n    </tr>\n    <tr>\n      <th>min</th>\n      <td>1.000000</td>\n      <td>2.000000</td>\n      <td>1.000000</td>\n      <td>96.000000</td>\n      <td>2.000000</td>\n      <td>1.000000</td>\n      <td>1004.000000</td>\n      <td>1.0</td>\n    </tr>\n    <tr>\n      <th>25%</th>\n      <td>365.000000</td>\n      <td>3.000000</td>\n      <td>2.000000</td>\n      <td>157.000000</td>\n      <td>2.000000</td>\n      <td>16.000000</td>\n      <td>1549.000000</td>\n      <td>1.0</td>\n    </tr>\n    <tr>\n      <th>50%</th>\n      <td>729.000000</td>\n      <td>4.000000</td>\n      <td>3.000000</td>\n      <td>190.000000</td>\n      <td>3.000000</td>\n      <td>33.000000</td>\n      <td>2200.000000</td>\n      <td>1.0</td>\n    </tr>\n    <tr>\n      <th>75%</th>\n      <td>1093.000000</td>\n      <td>4.000000</td>\n      <td>4.000000</td>\n      <td>234.000000</td>\n      <td>4.000000</td>\n      <td>49.000000</td>\n      <td>3067.000000</td>\n      <td>1.0</td>\n    </tr>\n    <tr>\n      <th>max</th>\n      <td>1457.000000</td>\n      <td>7.000000</td>\n      <td>5.000000</td>\n      <td>294.000000</td>\n      <td>10.000000</td>\n      <td>65.000000</td>\n      <td>7846.000000</td>\n      <td>1.0</td>\n    </tr>\n  </tbody>\n</table>\n</div>"
     },
     "execution_count": 31,
     "metadata": {},
     "output_type": "execute_result"
    }
   ],
   "source": [
    "df.describe()"
   ],
   "metadata": {
    "collapsed": false,
    "ExecuteTime": {
     "end_time": "2023-11-14T22:21:40.424568700Z",
     "start_time": "2023-11-14T22:21:40.245714200Z"
    }
   }
  },
  {
   "cell_type": "markdown",
   "source": [
    "Типи ознак"
   ],
   "metadata": {
    "collapsed": false
   }
  },
  {
   "cell_type": "code",
   "execution_count": 32,
   "outputs": [
    {
     "name": "stdout",
     "output_type": "stream",
     "text": [
      "<class 'pandas.core.frame.DataFrame'>\n",
      "RangeIndex: 1457 entries, 0 to 1456\n",
      "Data columns (total 12 columns):\n",
      " #   Column               Non-Null Count  Dtype \n",
      "---  ------               --------------  ----- \n",
      " 0   ID                   1457 non-null   int64 \n",
      " 1   Warehouse_block      1457 non-null   object\n",
      " 2   Mode_of_Shipment     1457 non-null   object\n",
      " 3   Customer_care_calls  1457 non-null   int64 \n",
      " 4   Customer_rating      1457 non-null   int64 \n",
      " 5   Cost_of_the_Product  1457 non-null   int64 \n",
      " 6   Prior_purchases      1457 non-null   int64 \n",
      " 7   Product_importance   1457 non-null   object\n",
      " 8   Gender               1457 non-null   object\n",
      " 9   Discount_offered     1457 non-null   int64 \n",
      " 10  Weight_in_gms        1457 non-null   int64 \n",
      " 11  Reached.on.Time_Y.N  1457 non-null   int64 \n",
      "dtypes: int64(8), object(4)\n",
      "memory usage: 136.7+ KB\n"
     ]
    }
   ],
   "source": [
    "df.info()"
   ],
   "metadata": {
    "collapsed": false,
    "ExecuteTime": {
     "end_time": "2023-11-14T22:21:40.425568500Z",
     "start_time": "2023-11-14T22:21:40.283785500Z"
    }
   }
  },
  {
   "cell_type": "markdown",
   "source": [
    "Які ознаки є категоріальними, а які – кількісними?"
   ],
   "metadata": {
    "collapsed": false
   }
  },
  {
   "cell_type": "code",
   "execution_count": 33,
   "outputs": [
    {
     "name": "stdout",
     "output_type": "stream",
     "text": [
      "ID is not categorical\n",
      "Warehouse_block is categorical\n",
      "Mode_of_Shipment is categorical\n",
      "Customer_care_calls is not categorical\n",
      "Customer_rating is not categorical\n",
      "Cost_of_the_Product is not categorical\n",
      "Prior_purchases is not categorical\n",
      "Product_importance is categorical\n",
      "Gender is categorical\n",
      "Discount_offered is not categorical\n",
      "Weight_in_gms is not categorical\n",
      "Reached.on.Time_Y.N is not categorical\n"
     ]
    }
   ],
   "source": [
    "for col in df.columns:\n",
    "    if df[col].dtype == 'object':\n",
    "        print(f'{col} is categorical')\n",
    "    else:\n",
    "        print(f'{col} is not categorical')"
   ],
   "metadata": {
    "collapsed": false,
    "ExecuteTime": {
     "end_time": "2023-11-14T22:21:40.446901900Z",
     "start_time": "2023-11-14T22:21:40.292120900Z"
    }
   }
  },
  {
   "cell_type": "markdown",
   "source": [
    "# 2\n",
    "За допомогою зрізів зробити копію частини набору даних і зберегти до нового об’єкту DataFrame. Призначити йому власні індекси рядків та стовпців. Додати новий рядок."
   ],
   "metadata": {
    "collapsed": false
   }
  },
  {
   "cell_type": "code",
   "execution_count": 34,
   "outputs": [
    {
     "data": {
      "text/plain": "  Warehouse_block Mode_of_Shipment  Customer_care_calls  Customer_rating\n1               F           Flight                    4                5\n2               A           Flight                    2                2\n3               B           Flight                    3                3\n4               C           Flight                    2                2\n5               F           Flight                    3                1",
      "text/html": "<div>\n<style scoped>\n    .dataframe tbody tr th:only-of-type {\n        vertical-align: middle;\n    }\n\n    .dataframe tbody tr th {\n        vertical-align: top;\n    }\n\n    .dataframe thead th {\n        text-align: right;\n    }\n</style>\n<table border=\"1\" class=\"dataframe\">\n  <thead>\n    <tr style=\"text-align: right;\">\n      <th></th>\n      <th>Warehouse_block</th>\n      <th>Mode_of_Shipment</th>\n      <th>Customer_care_calls</th>\n      <th>Customer_rating</th>\n    </tr>\n  </thead>\n  <tbody>\n    <tr>\n      <th>1</th>\n      <td>F</td>\n      <td>Flight</td>\n      <td>4</td>\n      <td>5</td>\n    </tr>\n    <tr>\n      <th>2</th>\n      <td>A</td>\n      <td>Flight</td>\n      <td>2</td>\n      <td>2</td>\n    </tr>\n    <tr>\n      <th>3</th>\n      <td>B</td>\n      <td>Flight</td>\n      <td>3</td>\n      <td>3</td>\n    </tr>\n    <tr>\n      <th>4</th>\n      <td>C</td>\n      <td>Flight</td>\n      <td>2</td>\n      <td>2</td>\n    </tr>\n    <tr>\n      <th>5</th>\n      <td>F</td>\n      <td>Flight</td>\n      <td>3</td>\n      <td>1</td>\n    </tr>\n  </tbody>\n</table>\n</div>"
     },
     "execution_count": 34,
     "metadata": {},
     "output_type": "execute_result"
    }
   ],
   "source": [
    "df_copy = df.iloc[1:6, 1:5]\n",
    "df_copy.reset_index(drop=True)\n",
    "df_copy"
   ],
   "metadata": {
    "collapsed": false,
    "ExecuteTime": {
     "end_time": "2023-11-14T22:21:40.447903600Z",
     "start_time": "2023-11-14T22:21:40.307635Z"
    }
   }
  },
  {
   "cell_type": "code",
   "execution_count": 35,
   "outputs": [
    {
     "data": {
      "text/plain": "   Warehouse    Mode  Calls  Rating\n11         F  Flight      4       5\n12         A  Flight      2       2\n13         B  Flight      3       3\n14         C  Flight      2       2\n15         F  Flight      3       1",
      "text/html": "<div>\n<style scoped>\n    .dataframe tbody tr th:only-of-type {\n        vertical-align: middle;\n    }\n\n    .dataframe tbody tr th {\n        vertical-align: top;\n    }\n\n    .dataframe thead th {\n        text-align: right;\n    }\n</style>\n<table border=\"1\" class=\"dataframe\">\n  <thead>\n    <tr style=\"text-align: right;\">\n      <th></th>\n      <th>Warehouse</th>\n      <th>Mode</th>\n      <th>Calls</th>\n      <th>Rating</th>\n    </tr>\n  </thead>\n  <tbody>\n    <tr>\n      <th>11</th>\n      <td>F</td>\n      <td>Flight</td>\n      <td>4</td>\n      <td>5</td>\n    </tr>\n    <tr>\n      <th>12</th>\n      <td>A</td>\n      <td>Flight</td>\n      <td>2</td>\n      <td>2</td>\n    </tr>\n    <tr>\n      <th>13</th>\n      <td>B</td>\n      <td>Flight</td>\n      <td>3</td>\n      <td>3</td>\n    </tr>\n    <tr>\n      <th>14</th>\n      <td>C</td>\n      <td>Flight</td>\n      <td>2</td>\n      <td>2</td>\n    </tr>\n    <tr>\n      <th>15</th>\n      <td>F</td>\n      <td>Flight</td>\n      <td>3</td>\n      <td>1</td>\n    </tr>\n  </tbody>\n</table>\n</div>"
     },
     "execution_count": 35,
     "metadata": {},
     "output_type": "execute_result"
    }
   ],
   "source": [
    "df_copy.index = ['11', '12', '13', '14', '15']\n",
    "df_copy.columns = ['Warehouse', 'Mode', 'Calls', 'Rating']\n",
    "df_copy"
   ],
   "metadata": {
    "collapsed": false,
    "ExecuteTime": {
     "end_time": "2023-11-14T22:21:40.448904Z",
     "start_time": "2023-11-14T22:21:40.323675800Z"
    }
   }
  },
  {
   "cell_type": "code",
   "execution_count": 36,
   "outputs": [
    {
     "data": {
      "text/plain": "        Warehouse         Mode  Calls  Rating\n11              F       Flight      4       5\n12              A       Flight      2       2\n13              B       Flight      3       3\n14              C       Flight      2       2\n15              F       Flight      3       1\nnew_row        AA  Test Flight    100     101",
      "text/html": "<div>\n<style scoped>\n    .dataframe tbody tr th:only-of-type {\n        vertical-align: middle;\n    }\n\n    .dataframe tbody tr th {\n        vertical-align: top;\n    }\n\n    .dataframe thead th {\n        text-align: right;\n    }\n</style>\n<table border=\"1\" class=\"dataframe\">\n  <thead>\n    <tr style=\"text-align: right;\">\n      <th></th>\n      <th>Warehouse</th>\n      <th>Mode</th>\n      <th>Calls</th>\n      <th>Rating</th>\n    </tr>\n  </thead>\n  <tbody>\n    <tr>\n      <th>11</th>\n      <td>F</td>\n      <td>Flight</td>\n      <td>4</td>\n      <td>5</td>\n    </tr>\n    <tr>\n      <th>12</th>\n      <td>A</td>\n      <td>Flight</td>\n      <td>2</td>\n      <td>2</td>\n    </tr>\n    <tr>\n      <th>13</th>\n      <td>B</td>\n      <td>Flight</td>\n      <td>3</td>\n      <td>3</td>\n    </tr>\n    <tr>\n      <th>14</th>\n      <td>C</td>\n      <td>Flight</td>\n      <td>2</td>\n      <td>2</td>\n    </tr>\n    <tr>\n      <th>15</th>\n      <td>F</td>\n      <td>Flight</td>\n      <td>3</td>\n      <td>1</td>\n    </tr>\n    <tr>\n      <th>new_row</th>\n      <td>AA</td>\n      <td>Test Flight</td>\n      <td>100</td>\n      <td>101</td>\n    </tr>\n  </tbody>\n</table>\n</div>"
     },
     "execution_count": 36,
     "metadata": {},
     "output_type": "execute_result"
    }
   ],
   "source": [
    "new_row = {\n",
    "    'Warehouse' : 'AA',\n",
    "    'Mode' : 'Test Flight',\n",
    "    'Calls' : 100,\n",
    "    'Rating' : 101\n",
    "}\n",
    "df_copy.loc['new_row'] = new_row\n",
    "df_copy"
   ],
   "metadata": {
    "collapsed": false,
    "ExecuteTime": {
     "end_time": "2023-11-14T22:21:40.449904100Z",
     "start_time": "2023-11-14T22:21:40.340708200Z"
    }
   }
  },
  {
   "cell_type": "markdown",
   "source": [
    "# 3\n",
    "Використовуючи початковий DataFrame:\n",
    "а) Знайти кількість товарів у кожному блоці;"
   ],
   "metadata": {
    "collapsed": false
   }
  },
  {
   "cell_type": "code",
   "execution_count": 37,
   "outputs": [
    {
     "data": {
      "text/plain": "        ID Warehouse_block Mode_of_Shipment  Customer_care_calls  \\\n0        1               D           Flight                    4   \n1        2               F           Flight                    4   \n2        3               A           Flight                    2   \n3        4               B           Flight                    3   \n4        5               C           Flight                    2   \n...    ...             ...              ...                  ...   \n1452  1453               D             Ship                    4   \n1453  1454               F             Ship                    6   \n1454  1455               A             Ship                    3   \n1455  1456               B             Ship                    4   \n1456  1457               C             Ship                    3   \n\n      Customer_rating  Cost_of_the_Product  Prior_purchases  \\\n0                   2                  177                3   \n1                   5                  216                2   \n2                   2                  183                4   \n3                   3                  176                4   \n4                   2                  184                3   \n...               ...                  ...              ...   \n1452                5                  143                3   \n1453                3                  223                6   \n1454                5                  230                2   \n1455                5                  241                4   \n1456                5                  156                3   \n\n     Product_importance Gender  Discount_offered  Weight_in_gms  \\\n0                   low      F                44           1233   \n1                   low      M                59           3088   \n2                   low      M                48           3374   \n3                medium      M                10           1177   \n4                medium      F                46           2484   \n...                 ...    ...               ...            ...   \n1452                low      F                48           1922   \n1453             medium      M                29           2980   \n1454                low      M                27           3840   \n1455             medium      M                58           2874   \n1456             medium      M                44           1424   \n\n      Reached.on.Time_Y.N  \n0                       1  \n1                       1  \n2                       1  \n3                       1  \n4                       1  \n...                   ...  \n1452                    1  \n1453                    1  \n1454                    1  \n1455                    1  \n1456                    1  \n\n[1457 rows x 12 columns]",
      "text/html": "<div>\n<style scoped>\n    .dataframe tbody tr th:only-of-type {\n        vertical-align: middle;\n    }\n\n    .dataframe tbody tr th {\n        vertical-align: top;\n    }\n\n    .dataframe thead th {\n        text-align: right;\n    }\n</style>\n<table border=\"1\" class=\"dataframe\">\n  <thead>\n    <tr style=\"text-align: right;\">\n      <th></th>\n      <th>ID</th>\n      <th>Warehouse_block</th>\n      <th>Mode_of_Shipment</th>\n      <th>Customer_care_calls</th>\n      <th>Customer_rating</th>\n      <th>Cost_of_the_Product</th>\n      <th>Prior_purchases</th>\n      <th>Product_importance</th>\n      <th>Gender</th>\n      <th>Discount_offered</th>\n      <th>Weight_in_gms</th>\n      <th>Reached.on.Time_Y.N</th>\n    </tr>\n  </thead>\n  <tbody>\n    <tr>\n      <th>0</th>\n      <td>1</td>\n      <td>D</td>\n      <td>Flight</td>\n      <td>4</td>\n      <td>2</td>\n      <td>177</td>\n      <td>3</td>\n      <td>low</td>\n      <td>F</td>\n      <td>44</td>\n      <td>1233</td>\n      <td>1</td>\n    </tr>\n    <tr>\n      <th>1</th>\n      <td>2</td>\n      <td>F</td>\n      <td>Flight</td>\n      <td>4</td>\n      <td>5</td>\n      <td>216</td>\n      <td>2</td>\n      <td>low</td>\n      <td>M</td>\n      <td>59</td>\n      <td>3088</td>\n      <td>1</td>\n    </tr>\n    <tr>\n      <th>2</th>\n      <td>3</td>\n      <td>A</td>\n      <td>Flight</td>\n      <td>2</td>\n      <td>2</td>\n      <td>183</td>\n      <td>4</td>\n      <td>low</td>\n      <td>M</td>\n      <td>48</td>\n      <td>3374</td>\n      <td>1</td>\n    </tr>\n    <tr>\n      <th>3</th>\n      <td>4</td>\n      <td>B</td>\n      <td>Flight</td>\n      <td>3</td>\n      <td>3</td>\n      <td>176</td>\n      <td>4</td>\n      <td>medium</td>\n      <td>M</td>\n      <td>10</td>\n      <td>1177</td>\n      <td>1</td>\n    </tr>\n    <tr>\n      <th>4</th>\n      <td>5</td>\n      <td>C</td>\n      <td>Flight</td>\n      <td>2</td>\n      <td>2</td>\n      <td>184</td>\n      <td>3</td>\n      <td>medium</td>\n      <td>F</td>\n      <td>46</td>\n      <td>2484</td>\n      <td>1</td>\n    </tr>\n    <tr>\n      <th>...</th>\n      <td>...</td>\n      <td>...</td>\n      <td>...</td>\n      <td>...</td>\n      <td>...</td>\n      <td>...</td>\n      <td>...</td>\n      <td>...</td>\n      <td>...</td>\n      <td>...</td>\n      <td>...</td>\n      <td>...</td>\n    </tr>\n    <tr>\n      <th>1452</th>\n      <td>1453</td>\n      <td>D</td>\n      <td>Ship</td>\n      <td>4</td>\n      <td>5</td>\n      <td>143</td>\n      <td>3</td>\n      <td>low</td>\n      <td>F</td>\n      <td>48</td>\n      <td>1922</td>\n      <td>1</td>\n    </tr>\n    <tr>\n      <th>1453</th>\n      <td>1454</td>\n      <td>F</td>\n      <td>Ship</td>\n      <td>6</td>\n      <td>3</td>\n      <td>223</td>\n      <td>6</td>\n      <td>medium</td>\n      <td>M</td>\n      <td>29</td>\n      <td>2980</td>\n      <td>1</td>\n    </tr>\n    <tr>\n      <th>1454</th>\n      <td>1455</td>\n      <td>A</td>\n      <td>Ship</td>\n      <td>3</td>\n      <td>5</td>\n      <td>230</td>\n      <td>2</td>\n      <td>low</td>\n      <td>M</td>\n      <td>27</td>\n      <td>3840</td>\n      <td>1</td>\n    </tr>\n    <tr>\n      <th>1455</th>\n      <td>1456</td>\n      <td>B</td>\n      <td>Ship</td>\n      <td>4</td>\n      <td>5</td>\n      <td>241</td>\n      <td>4</td>\n      <td>medium</td>\n      <td>M</td>\n      <td>58</td>\n      <td>2874</td>\n      <td>1</td>\n    </tr>\n    <tr>\n      <th>1456</th>\n      <td>1457</td>\n      <td>C</td>\n      <td>Ship</td>\n      <td>3</td>\n      <td>5</td>\n      <td>156</td>\n      <td>3</td>\n      <td>medium</td>\n      <td>M</td>\n      <td>44</td>\n      <td>1424</td>\n      <td>1</td>\n    </tr>\n  </tbody>\n</table>\n<p>1457 rows × 12 columns</p>\n</div>"
     },
     "execution_count": 37,
     "metadata": {},
     "output_type": "execute_result"
    }
   ],
   "source": [
    "df"
   ],
   "metadata": {
    "collapsed": false,
    "ExecuteTime": {
     "end_time": "2023-11-14T22:21:40.462935100Z",
     "start_time": "2023-11-14T22:21:40.362601500Z"
    }
   }
  },
  {
   "cell_type": "code",
   "execution_count": 38,
   "outputs": [
    {
     "data": {
      "text/plain": "Warehouse_block\nA     820\nB     795\nC     787\nD     806\nF    1567\nName: Prior_purchases, dtype: int64"
     },
     "execution_count": 38,
     "metadata": {},
     "output_type": "execute_result"
    }
   ],
   "source": [
    "total_purchases = df.groupby('Warehouse_block')['Prior_purchases'].sum()\n",
    "total_purchases"
   ],
   "metadata": {
    "collapsed": false,
    "ExecuteTime": {
     "end_time": "2023-11-14T22:21:40.463936100Z",
     "start_time": "2023-11-14T22:21:40.370861100Z"
    }
   }
  },
  {
   "cell_type": "markdown",
   "source": [
    "б) Вивести товари з середнім пріоритетом, які планується відправити літаком та які були замовлені чоловіками. Знайти загальну вартість цих товарів."
   ],
   "metadata": {
    "collapsed": false
   }
  },
  {
   "cell_type": "code",
   "execution_count": 39,
   "outputs": [
    {
     "data": {
      "text/plain": "        ID Warehouse_block Mode_of_Shipment  Customer_care_calls  \\\n3        4               B           Flight                    3   \n10      11               C           Flight                    3   \n137    138               F           Flight                    3   \n151    152               F           Flight                    5   \n269    270               F           Flight                    4   \n274    275               C           Flight                    3   \n280    281               C           Flight                    3   \n281    282               F           Flight                    5   \n285    286               B           Flight                    2   \n407    408               F           Flight                    4   \n408    409               D           Flight                    3   \n409    410               F           Flight                    2   \n410    411               A           Flight                    3   \n411    412               B           Flight                    3   \n412    413               C           Flight                    4   \n421    422               F           Flight                    4   \n423    424               B           Flight                    4   \n426    427               D           Flight                    3   \n548    549               A           Flight                    2   \n551    552               F           Flight                    3   \n557    558               F           Flight                    2   \n558    559               D           Flight                    4   \n559    560               F           Flight                    5   \n562    563               C           Flight                    3   \n682    683               C           Flight                    4   \n693    694               B           Flight                    3   \n698    699               A           Flight                    4   \n701    702               F           Flight                    4   \n826    827               C           Flight                    5   \n828    829               D           Flight                    4   \n833    834               F           Flight                    3   \n835    836               F           Flight                    3   \n962    963               A           Flight                    3   \n973    974               F           Flight                    5   \n975    976               B           Flight                    5   \n1091  1092               F           Flight                    3   \n1094  1095               A           Flight                    3   \n1100  1101               A           Flight                    5   \n1102  1103               C           Flight                    4   \n1110  1111               D           Flight                    5   \n1239  1240               B           Flight                    4   \n1242  1243               D           Flight                    4   \n1245  1246               B           Flight                    4   \n1367  1368               F           Flight                    5   \n1371  1372               B           Flight                    5   \n1376  1377               A           Flight                    5   \n\n      Customer_rating  Cost_of_the_Product  Prior_purchases  \\\n3                   3                  176                4   \n10                  4                  189                2   \n137                 5                  162                2   \n151                 3                   98                5   \n269                 5                  208                3   \n274                 5                  229                6   \n280                 1                  205                3   \n281                 4                  147                3   \n285                 4                  181                4   \n407                 5                  193                3   \n408                 2                  192                3   \n409                 5                  166                3   \n410                 2                  264                3   \n411                 4                  200                2   \n412                 3                  142                4   \n421                 2                  251                2   \n423                 4                  229                2   \n426                 4                  167                3   \n548                 4                  182                3   \n551                 5                  233                3   \n557                 3                  198                2   \n558                 2                  164                3   \n559                 2                  271                3   \n562                 2                  137                2   \n682                 4                  143                2   \n693                 3                  207                7   \n698                 3                  264                3   \n701                 2                  197                7   \n826                 2                  232                2   \n828                 2                  230                3   \n833                 4                  145                6   \n835                 5                  218                4   \n962                 2                  180                4   \n973                 4                  229                3   \n975                 5                  249                3   \n1091                5                  154                3   \n1094                1                  185                3   \n1100                2                  260                2   \n1102                1                  227                3   \n1110                1                  196                3   \n1239                5                  157                3   \n1242                1                  250                2   \n1245                3                  258                3   \n1367                3                  165                2   \n1371                4                  268                3   \n1376                1                  274                3   \n\n     Product_importance Gender  Discount_offered  Weight_in_gms  \\\n3                medium      M                10           1177   \n10               medium      M                12           2888   \n137              medium      M                 7           1739   \n151              medium      M                44           1269   \n269              medium      M                23           2056   \n274              medium      M                22           2717   \n280              medium      M                39           3062   \n281              medium      M                23           1132   \n285              medium      M                13           2309   \n407              medium      M                65           2267   \n408              medium      M                43           3339   \n409              medium      M                 3           1832   \n410              medium      M                 5           3861   \n411              medium      M                14           3528   \n412              medium      M                12           1396   \n421              medium      M                24           2405   \n423              medium      M                45           3776   \n426              medium      M                52           1755   \n548              medium      M                47           3792   \n551              medium      M                52           3519   \n557              medium      M                28           3514   \n558              medium      M                15           1489   \n559              medium      M                32           3785   \n562              medium      M                17           1673   \n682              medium      M                58           1038   \n693              medium      M                19           2182   \n698              medium      M                23           2376   \n701              medium      M                43           3730   \n826              medium      M                24           2174   \n828              medium      M                33           3602   \n833              medium      M                57           1949   \n835              medium      M                60           3048   \n962              medium      M                52           1329   \n973              medium      M                29           2505   \n975              medium      M                55           3558   \n1091             medium      M                46           1312   \n1094             medium      M                 3           3051   \n1100             medium      M                23           3962   \n1102             medium      M                54           3043   \n1110             medium      M                24           2957   \n1239             medium      M                28           1557   \n1242             medium      M                45           3021   \n1245             medium      M                58           2579   \n1367             medium      M                51           1429   \n1371             medium      M                 6           2206   \n1376             medium      M                58           2098   \n\n      Reached.on.Time_Y.N  \n3                       1  \n10                      1  \n137                     1  \n151                     1  \n269                     1  \n274                     1  \n280                     1  \n281                     1  \n285                     1  \n407                     1  \n408                     1  \n409                     1  \n410                     1  \n411                     1  \n412                     1  \n421                     1  \n423                     1  \n426                     1  \n548                     1  \n551                     1  \n557                     1  \n558                     1  \n559                     1  \n562                     1  \n682                     1  \n693                     1  \n698                     1  \n701                     1  \n826                     1  \n828                     1  \n833                     1  \n835                     1  \n962                     1  \n973                     1  \n975                     1  \n1091                    1  \n1094                    1  \n1100                    1  \n1102                    1  \n1110                    1  \n1239                    1  \n1242                    1  \n1245                    1  \n1367                    1  \n1371                    1  \n1376                    1  ",
      "text/html": "<div>\n<style scoped>\n    .dataframe tbody tr th:only-of-type {\n        vertical-align: middle;\n    }\n\n    .dataframe tbody tr th {\n        vertical-align: top;\n    }\n\n    .dataframe thead th {\n        text-align: right;\n    }\n</style>\n<table border=\"1\" class=\"dataframe\">\n  <thead>\n    <tr style=\"text-align: right;\">\n      <th></th>\n      <th>ID</th>\n      <th>Warehouse_block</th>\n      <th>Mode_of_Shipment</th>\n      <th>Customer_care_calls</th>\n      <th>Customer_rating</th>\n      <th>Cost_of_the_Product</th>\n      <th>Prior_purchases</th>\n      <th>Product_importance</th>\n      <th>Gender</th>\n      <th>Discount_offered</th>\n      <th>Weight_in_gms</th>\n      <th>Reached.on.Time_Y.N</th>\n    </tr>\n  </thead>\n  <tbody>\n    <tr>\n      <th>3</th>\n      <td>4</td>\n      <td>B</td>\n      <td>Flight</td>\n      <td>3</td>\n      <td>3</td>\n      <td>176</td>\n      <td>4</td>\n      <td>medium</td>\n      <td>M</td>\n      <td>10</td>\n      <td>1177</td>\n      <td>1</td>\n    </tr>\n    <tr>\n      <th>10</th>\n      <td>11</td>\n      <td>C</td>\n      <td>Flight</td>\n      <td>3</td>\n      <td>4</td>\n      <td>189</td>\n      <td>2</td>\n      <td>medium</td>\n      <td>M</td>\n      <td>12</td>\n      <td>2888</td>\n      <td>1</td>\n    </tr>\n    <tr>\n      <th>137</th>\n      <td>138</td>\n      <td>F</td>\n      <td>Flight</td>\n      <td>3</td>\n      <td>5</td>\n      <td>162</td>\n      <td>2</td>\n      <td>medium</td>\n      <td>M</td>\n      <td>7</td>\n      <td>1739</td>\n      <td>1</td>\n    </tr>\n    <tr>\n      <th>151</th>\n      <td>152</td>\n      <td>F</td>\n      <td>Flight</td>\n      <td>5</td>\n      <td>3</td>\n      <td>98</td>\n      <td>5</td>\n      <td>medium</td>\n      <td>M</td>\n      <td>44</td>\n      <td>1269</td>\n      <td>1</td>\n    </tr>\n    <tr>\n      <th>269</th>\n      <td>270</td>\n      <td>F</td>\n      <td>Flight</td>\n      <td>4</td>\n      <td>5</td>\n      <td>208</td>\n      <td>3</td>\n      <td>medium</td>\n      <td>M</td>\n      <td>23</td>\n      <td>2056</td>\n      <td>1</td>\n    </tr>\n    <tr>\n      <th>274</th>\n      <td>275</td>\n      <td>C</td>\n      <td>Flight</td>\n      <td>3</td>\n      <td>5</td>\n      <td>229</td>\n      <td>6</td>\n      <td>medium</td>\n      <td>M</td>\n      <td>22</td>\n      <td>2717</td>\n      <td>1</td>\n    </tr>\n    <tr>\n      <th>280</th>\n      <td>281</td>\n      <td>C</td>\n      <td>Flight</td>\n      <td>3</td>\n      <td>1</td>\n      <td>205</td>\n      <td>3</td>\n      <td>medium</td>\n      <td>M</td>\n      <td>39</td>\n      <td>3062</td>\n      <td>1</td>\n    </tr>\n    <tr>\n      <th>281</th>\n      <td>282</td>\n      <td>F</td>\n      <td>Flight</td>\n      <td>5</td>\n      <td>4</td>\n      <td>147</td>\n      <td>3</td>\n      <td>medium</td>\n      <td>M</td>\n      <td>23</td>\n      <td>1132</td>\n      <td>1</td>\n    </tr>\n    <tr>\n      <th>285</th>\n      <td>286</td>\n      <td>B</td>\n      <td>Flight</td>\n      <td>2</td>\n      <td>4</td>\n      <td>181</td>\n      <td>4</td>\n      <td>medium</td>\n      <td>M</td>\n      <td>13</td>\n      <td>2309</td>\n      <td>1</td>\n    </tr>\n    <tr>\n      <th>407</th>\n      <td>408</td>\n      <td>F</td>\n      <td>Flight</td>\n      <td>4</td>\n      <td>5</td>\n      <td>193</td>\n      <td>3</td>\n      <td>medium</td>\n      <td>M</td>\n      <td>65</td>\n      <td>2267</td>\n      <td>1</td>\n    </tr>\n    <tr>\n      <th>408</th>\n      <td>409</td>\n      <td>D</td>\n      <td>Flight</td>\n      <td>3</td>\n      <td>2</td>\n      <td>192</td>\n      <td>3</td>\n      <td>medium</td>\n      <td>M</td>\n      <td>43</td>\n      <td>3339</td>\n      <td>1</td>\n    </tr>\n    <tr>\n      <th>409</th>\n      <td>410</td>\n      <td>F</td>\n      <td>Flight</td>\n      <td>2</td>\n      <td>5</td>\n      <td>166</td>\n      <td>3</td>\n      <td>medium</td>\n      <td>M</td>\n      <td>3</td>\n      <td>1832</td>\n      <td>1</td>\n    </tr>\n    <tr>\n      <th>410</th>\n      <td>411</td>\n      <td>A</td>\n      <td>Flight</td>\n      <td>3</td>\n      <td>2</td>\n      <td>264</td>\n      <td>3</td>\n      <td>medium</td>\n      <td>M</td>\n      <td>5</td>\n      <td>3861</td>\n      <td>1</td>\n    </tr>\n    <tr>\n      <th>411</th>\n      <td>412</td>\n      <td>B</td>\n      <td>Flight</td>\n      <td>3</td>\n      <td>4</td>\n      <td>200</td>\n      <td>2</td>\n      <td>medium</td>\n      <td>M</td>\n      <td>14</td>\n      <td>3528</td>\n      <td>1</td>\n    </tr>\n    <tr>\n      <th>412</th>\n      <td>413</td>\n      <td>C</td>\n      <td>Flight</td>\n      <td>4</td>\n      <td>3</td>\n      <td>142</td>\n      <td>4</td>\n      <td>medium</td>\n      <td>M</td>\n      <td>12</td>\n      <td>1396</td>\n      <td>1</td>\n    </tr>\n    <tr>\n      <th>421</th>\n      <td>422</td>\n      <td>F</td>\n      <td>Flight</td>\n      <td>4</td>\n      <td>2</td>\n      <td>251</td>\n      <td>2</td>\n      <td>medium</td>\n      <td>M</td>\n      <td>24</td>\n      <td>2405</td>\n      <td>1</td>\n    </tr>\n    <tr>\n      <th>423</th>\n      <td>424</td>\n      <td>B</td>\n      <td>Flight</td>\n      <td>4</td>\n      <td>4</td>\n      <td>229</td>\n      <td>2</td>\n      <td>medium</td>\n      <td>M</td>\n      <td>45</td>\n      <td>3776</td>\n      <td>1</td>\n    </tr>\n    <tr>\n      <th>426</th>\n      <td>427</td>\n      <td>D</td>\n      <td>Flight</td>\n      <td>3</td>\n      <td>4</td>\n      <td>167</td>\n      <td>3</td>\n      <td>medium</td>\n      <td>M</td>\n      <td>52</td>\n      <td>1755</td>\n      <td>1</td>\n    </tr>\n    <tr>\n      <th>548</th>\n      <td>549</td>\n      <td>A</td>\n      <td>Flight</td>\n      <td>2</td>\n      <td>4</td>\n      <td>182</td>\n      <td>3</td>\n      <td>medium</td>\n      <td>M</td>\n      <td>47</td>\n      <td>3792</td>\n      <td>1</td>\n    </tr>\n    <tr>\n      <th>551</th>\n      <td>552</td>\n      <td>F</td>\n      <td>Flight</td>\n      <td>3</td>\n      <td>5</td>\n      <td>233</td>\n      <td>3</td>\n      <td>medium</td>\n      <td>M</td>\n      <td>52</td>\n      <td>3519</td>\n      <td>1</td>\n    </tr>\n    <tr>\n      <th>557</th>\n      <td>558</td>\n      <td>F</td>\n      <td>Flight</td>\n      <td>2</td>\n      <td>3</td>\n      <td>198</td>\n      <td>2</td>\n      <td>medium</td>\n      <td>M</td>\n      <td>28</td>\n      <td>3514</td>\n      <td>1</td>\n    </tr>\n    <tr>\n      <th>558</th>\n      <td>559</td>\n      <td>D</td>\n      <td>Flight</td>\n      <td>4</td>\n      <td>2</td>\n      <td>164</td>\n      <td>3</td>\n      <td>medium</td>\n      <td>M</td>\n      <td>15</td>\n      <td>1489</td>\n      <td>1</td>\n    </tr>\n    <tr>\n      <th>559</th>\n      <td>560</td>\n      <td>F</td>\n      <td>Flight</td>\n      <td>5</td>\n      <td>2</td>\n      <td>271</td>\n      <td>3</td>\n      <td>medium</td>\n      <td>M</td>\n      <td>32</td>\n      <td>3785</td>\n      <td>1</td>\n    </tr>\n    <tr>\n      <th>562</th>\n      <td>563</td>\n      <td>C</td>\n      <td>Flight</td>\n      <td>3</td>\n      <td>2</td>\n      <td>137</td>\n      <td>2</td>\n      <td>medium</td>\n      <td>M</td>\n      <td>17</td>\n      <td>1673</td>\n      <td>1</td>\n    </tr>\n    <tr>\n      <th>682</th>\n      <td>683</td>\n      <td>C</td>\n      <td>Flight</td>\n      <td>4</td>\n      <td>4</td>\n      <td>143</td>\n      <td>2</td>\n      <td>medium</td>\n      <td>M</td>\n      <td>58</td>\n      <td>1038</td>\n      <td>1</td>\n    </tr>\n    <tr>\n      <th>693</th>\n      <td>694</td>\n      <td>B</td>\n      <td>Flight</td>\n      <td>3</td>\n      <td>3</td>\n      <td>207</td>\n      <td>7</td>\n      <td>medium</td>\n      <td>M</td>\n      <td>19</td>\n      <td>2182</td>\n      <td>1</td>\n    </tr>\n    <tr>\n      <th>698</th>\n      <td>699</td>\n      <td>A</td>\n      <td>Flight</td>\n      <td>4</td>\n      <td>3</td>\n      <td>264</td>\n      <td>3</td>\n      <td>medium</td>\n      <td>M</td>\n      <td>23</td>\n      <td>2376</td>\n      <td>1</td>\n    </tr>\n    <tr>\n      <th>701</th>\n      <td>702</td>\n      <td>F</td>\n      <td>Flight</td>\n      <td>4</td>\n      <td>2</td>\n      <td>197</td>\n      <td>7</td>\n      <td>medium</td>\n      <td>M</td>\n      <td>43</td>\n      <td>3730</td>\n      <td>1</td>\n    </tr>\n    <tr>\n      <th>826</th>\n      <td>827</td>\n      <td>C</td>\n      <td>Flight</td>\n      <td>5</td>\n      <td>2</td>\n      <td>232</td>\n      <td>2</td>\n      <td>medium</td>\n      <td>M</td>\n      <td>24</td>\n      <td>2174</td>\n      <td>1</td>\n    </tr>\n    <tr>\n      <th>828</th>\n      <td>829</td>\n      <td>D</td>\n      <td>Flight</td>\n      <td>4</td>\n      <td>2</td>\n      <td>230</td>\n      <td>3</td>\n      <td>medium</td>\n      <td>M</td>\n      <td>33</td>\n      <td>3602</td>\n      <td>1</td>\n    </tr>\n    <tr>\n      <th>833</th>\n      <td>834</td>\n      <td>F</td>\n      <td>Flight</td>\n      <td>3</td>\n      <td>4</td>\n      <td>145</td>\n      <td>6</td>\n      <td>medium</td>\n      <td>M</td>\n      <td>57</td>\n      <td>1949</td>\n      <td>1</td>\n    </tr>\n    <tr>\n      <th>835</th>\n      <td>836</td>\n      <td>F</td>\n      <td>Flight</td>\n      <td>3</td>\n      <td>5</td>\n      <td>218</td>\n      <td>4</td>\n      <td>medium</td>\n      <td>M</td>\n      <td>60</td>\n      <td>3048</td>\n      <td>1</td>\n    </tr>\n    <tr>\n      <th>962</th>\n      <td>963</td>\n      <td>A</td>\n      <td>Flight</td>\n      <td>3</td>\n      <td>2</td>\n      <td>180</td>\n      <td>4</td>\n      <td>medium</td>\n      <td>M</td>\n      <td>52</td>\n      <td>1329</td>\n      <td>1</td>\n    </tr>\n    <tr>\n      <th>973</th>\n      <td>974</td>\n      <td>F</td>\n      <td>Flight</td>\n      <td>5</td>\n      <td>4</td>\n      <td>229</td>\n      <td>3</td>\n      <td>medium</td>\n      <td>M</td>\n      <td>29</td>\n      <td>2505</td>\n      <td>1</td>\n    </tr>\n    <tr>\n      <th>975</th>\n      <td>976</td>\n      <td>B</td>\n      <td>Flight</td>\n      <td>5</td>\n      <td>5</td>\n      <td>249</td>\n      <td>3</td>\n      <td>medium</td>\n      <td>M</td>\n      <td>55</td>\n      <td>3558</td>\n      <td>1</td>\n    </tr>\n    <tr>\n      <th>1091</th>\n      <td>1092</td>\n      <td>F</td>\n      <td>Flight</td>\n      <td>3</td>\n      <td>5</td>\n      <td>154</td>\n      <td>3</td>\n      <td>medium</td>\n      <td>M</td>\n      <td>46</td>\n      <td>1312</td>\n      <td>1</td>\n    </tr>\n    <tr>\n      <th>1094</th>\n      <td>1095</td>\n      <td>A</td>\n      <td>Flight</td>\n      <td>3</td>\n      <td>1</td>\n      <td>185</td>\n      <td>3</td>\n      <td>medium</td>\n      <td>M</td>\n      <td>3</td>\n      <td>3051</td>\n      <td>1</td>\n    </tr>\n    <tr>\n      <th>1100</th>\n      <td>1101</td>\n      <td>A</td>\n      <td>Flight</td>\n      <td>5</td>\n      <td>2</td>\n      <td>260</td>\n      <td>2</td>\n      <td>medium</td>\n      <td>M</td>\n      <td>23</td>\n      <td>3962</td>\n      <td>1</td>\n    </tr>\n    <tr>\n      <th>1102</th>\n      <td>1103</td>\n      <td>C</td>\n      <td>Flight</td>\n      <td>4</td>\n      <td>1</td>\n      <td>227</td>\n      <td>3</td>\n      <td>medium</td>\n      <td>M</td>\n      <td>54</td>\n      <td>3043</td>\n      <td>1</td>\n    </tr>\n    <tr>\n      <th>1110</th>\n      <td>1111</td>\n      <td>D</td>\n      <td>Flight</td>\n      <td>5</td>\n      <td>1</td>\n      <td>196</td>\n      <td>3</td>\n      <td>medium</td>\n      <td>M</td>\n      <td>24</td>\n      <td>2957</td>\n      <td>1</td>\n    </tr>\n    <tr>\n      <th>1239</th>\n      <td>1240</td>\n      <td>B</td>\n      <td>Flight</td>\n      <td>4</td>\n      <td>5</td>\n      <td>157</td>\n      <td>3</td>\n      <td>medium</td>\n      <td>M</td>\n      <td>28</td>\n      <td>1557</td>\n      <td>1</td>\n    </tr>\n    <tr>\n      <th>1242</th>\n      <td>1243</td>\n      <td>D</td>\n      <td>Flight</td>\n      <td>4</td>\n      <td>1</td>\n      <td>250</td>\n      <td>2</td>\n      <td>medium</td>\n      <td>M</td>\n      <td>45</td>\n      <td>3021</td>\n      <td>1</td>\n    </tr>\n    <tr>\n      <th>1245</th>\n      <td>1246</td>\n      <td>B</td>\n      <td>Flight</td>\n      <td>4</td>\n      <td>3</td>\n      <td>258</td>\n      <td>3</td>\n      <td>medium</td>\n      <td>M</td>\n      <td>58</td>\n      <td>2579</td>\n      <td>1</td>\n    </tr>\n    <tr>\n      <th>1367</th>\n      <td>1368</td>\n      <td>F</td>\n      <td>Flight</td>\n      <td>5</td>\n      <td>3</td>\n      <td>165</td>\n      <td>2</td>\n      <td>medium</td>\n      <td>M</td>\n      <td>51</td>\n      <td>1429</td>\n      <td>1</td>\n    </tr>\n    <tr>\n      <th>1371</th>\n      <td>1372</td>\n      <td>B</td>\n      <td>Flight</td>\n      <td>5</td>\n      <td>4</td>\n      <td>268</td>\n      <td>3</td>\n      <td>medium</td>\n      <td>M</td>\n      <td>6</td>\n      <td>2206</td>\n      <td>1</td>\n    </tr>\n    <tr>\n      <th>1376</th>\n      <td>1377</td>\n      <td>A</td>\n      <td>Flight</td>\n      <td>5</td>\n      <td>1</td>\n      <td>274</td>\n      <td>3</td>\n      <td>medium</td>\n      <td>M</td>\n      <td>58</td>\n      <td>2098</td>\n      <td>1</td>\n    </tr>\n  </tbody>\n</table>\n</div>"
     },
     "execution_count": 39,
     "metadata": {},
     "output_type": "execute_result"
    }
   ],
   "source": [
    "purchases_by_flight = df[\n",
    "    (df['Mode_of_Shipment'] == 'Flight') & (df['Gender'] == 'M') & (df['Product_importance'] == 'medium')]\n",
    "purchases_by_flight"
   ],
   "metadata": {
    "collapsed": false,
    "ExecuteTime": {
     "end_time": "2023-11-14T22:21:40.463936100Z",
     "start_time": "2023-11-14T22:21:40.400992200Z"
    }
   }
  },
  {
   "cell_type": "code",
   "execution_count": 40,
   "outputs": [
    {
     "name": "stdout",
     "output_type": "stream",
     "text": [
      "Total cost is 9272\n"
     ]
    }
   ],
   "source": [
    "print('Total cost is', purchases_by_flight['Cost_of_the_Product'].sum())"
   ],
   "metadata": {
    "collapsed": false,
    "ExecuteTime": {
     "end_time": "2023-11-14T22:21:40.464937Z",
     "start_time": "2023-11-14T22:21:40.418053500Z"
    }
   }
  },
  {
   "cell_type": "markdown",
   "source": [
    "в) Додати новий стовпець, який показує, чи знижка на товар більше, ніж по 10 доларів на кожну попередню покупку (наприклад, знижка=20, попередніх покупок – 3, не перевищує)."
   ],
   "metadata": {
    "collapsed": false
   }
  },
  {
   "cell_type": "code",
   "execution_count": 41,
   "outputs": [
    {
     "data": {
      "text/plain": "        ID Warehouse_block Mode_of_Shipment  Customer_care_calls  \\\n0        1               D           Flight                    4   \n1        2               F           Flight                    4   \n2        3               A           Flight                    2   \n3        4               B           Flight                    3   \n4        5               C           Flight                    2   \n...    ...             ...              ...                  ...   \n1452  1453               D             Ship                    4   \n1453  1454               F             Ship                    6   \n1454  1455               A             Ship                    3   \n1455  1456               B             Ship                    4   \n1456  1457               C             Ship                    3   \n\n      Customer_rating  Cost_of_the_Product  Prior_purchases  \\\n0                   2                  177                3   \n1                   5                  216                2   \n2                   2                  183                4   \n3                   3                  176                4   \n4                   2                  184                3   \n...               ...                  ...              ...   \n1452                5                  143                3   \n1453                3                  223                6   \n1454                5                  230                2   \n1455                5                  241                4   \n1456                5                  156                3   \n\n     Product_importance Gender  Discount_offered  Weight_in_gms  \\\n0                   low      F                44           1233   \n1                   low      M                59           3088   \n2                   low      M                48           3374   \n3                medium      M                10           1177   \n4                medium      F                46           2484   \n...                 ...    ...               ...            ...   \n1452                low      F                48           1922   \n1453             medium      M                29           2980   \n1454                low      M                27           3840   \n1455             medium      M                58           2874   \n1456             medium      M                44           1424   \n\n      Reached.on.Time_Y.N  is_discount_more_10  \n0                       1                 True  \n1                       1                 True  \n2                       1                 True  \n3                       1                False  \n4                       1                 True  \n...                   ...                  ...  \n1452                    1                 True  \n1453                    1                False  \n1454                    1                 True  \n1455                    1                 True  \n1456                    1                 True  \n\n[1457 rows x 13 columns]",
      "text/html": "<div>\n<style scoped>\n    .dataframe tbody tr th:only-of-type {\n        vertical-align: middle;\n    }\n\n    .dataframe tbody tr th {\n        vertical-align: top;\n    }\n\n    .dataframe thead th {\n        text-align: right;\n    }\n</style>\n<table border=\"1\" class=\"dataframe\">\n  <thead>\n    <tr style=\"text-align: right;\">\n      <th></th>\n      <th>ID</th>\n      <th>Warehouse_block</th>\n      <th>Mode_of_Shipment</th>\n      <th>Customer_care_calls</th>\n      <th>Customer_rating</th>\n      <th>Cost_of_the_Product</th>\n      <th>Prior_purchases</th>\n      <th>Product_importance</th>\n      <th>Gender</th>\n      <th>Discount_offered</th>\n      <th>Weight_in_gms</th>\n      <th>Reached.on.Time_Y.N</th>\n      <th>is_discount_more_10</th>\n    </tr>\n  </thead>\n  <tbody>\n    <tr>\n      <th>0</th>\n      <td>1</td>\n      <td>D</td>\n      <td>Flight</td>\n      <td>4</td>\n      <td>2</td>\n      <td>177</td>\n      <td>3</td>\n      <td>low</td>\n      <td>F</td>\n      <td>44</td>\n      <td>1233</td>\n      <td>1</td>\n      <td>True</td>\n    </tr>\n    <tr>\n      <th>1</th>\n      <td>2</td>\n      <td>F</td>\n      <td>Flight</td>\n      <td>4</td>\n      <td>5</td>\n      <td>216</td>\n      <td>2</td>\n      <td>low</td>\n      <td>M</td>\n      <td>59</td>\n      <td>3088</td>\n      <td>1</td>\n      <td>True</td>\n    </tr>\n    <tr>\n      <th>2</th>\n      <td>3</td>\n      <td>A</td>\n      <td>Flight</td>\n      <td>2</td>\n      <td>2</td>\n      <td>183</td>\n      <td>4</td>\n      <td>low</td>\n      <td>M</td>\n      <td>48</td>\n      <td>3374</td>\n      <td>1</td>\n      <td>True</td>\n    </tr>\n    <tr>\n      <th>3</th>\n      <td>4</td>\n      <td>B</td>\n      <td>Flight</td>\n      <td>3</td>\n      <td>3</td>\n      <td>176</td>\n      <td>4</td>\n      <td>medium</td>\n      <td>M</td>\n      <td>10</td>\n      <td>1177</td>\n      <td>1</td>\n      <td>False</td>\n    </tr>\n    <tr>\n      <th>4</th>\n      <td>5</td>\n      <td>C</td>\n      <td>Flight</td>\n      <td>2</td>\n      <td>2</td>\n      <td>184</td>\n      <td>3</td>\n      <td>medium</td>\n      <td>F</td>\n      <td>46</td>\n      <td>2484</td>\n      <td>1</td>\n      <td>True</td>\n    </tr>\n    <tr>\n      <th>...</th>\n      <td>...</td>\n      <td>...</td>\n      <td>...</td>\n      <td>...</td>\n      <td>...</td>\n      <td>...</td>\n      <td>...</td>\n      <td>...</td>\n      <td>...</td>\n      <td>...</td>\n      <td>...</td>\n      <td>...</td>\n      <td>...</td>\n    </tr>\n    <tr>\n      <th>1452</th>\n      <td>1453</td>\n      <td>D</td>\n      <td>Ship</td>\n      <td>4</td>\n      <td>5</td>\n      <td>143</td>\n      <td>3</td>\n      <td>low</td>\n      <td>F</td>\n      <td>48</td>\n      <td>1922</td>\n      <td>1</td>\n      <td>True</td>\n    </tr>\n    <tr>\n      <th>1453</th>\n      <td>1454</td>\n      <td>F</td>\n      <td>Ship</td>\n      <td>6</td>\n      <td>3</td>\n      <td>223</td>\n      <td>6</td>\n      <td>medium</td>\n      <td>M</td>\n      <td>29</td>\n      <td>2980</td>\n      <td>1</td>\n      <td>False</td>\n    </tr>\n    <tr>\n      <th>1454</th>\n      <td>1455</td>\n      <td>A</td>\n      <td>Ship</td>\n      <td>3</td>\n      <td>5</td>\n      <td>230</td>\n      <td>2</td>\n      <td>low</td>\n      <td>M</td>\n      <td>27</td>\n      <td>3840</td>\n      <td>1</td>\n      <td>True</td>\n    </tr>\n    <tr>\n      <th>1455</th>\n      <td>1456</td>\n      <td>B</td>\n      <td>Ship</td>\n      <td>4</td>\n      <td>5</td>\n      <td>241</td>\n      <td>4</td>\n      <td>medium</td>\n      <td>M</td>\n      <td>58</td>\n      <td>2874</td>\n      <td>1</td>\n      <td>True</td>\n    </tr>\n    <tr>\n      <th>1456</th>\n      <td>1457</td>\n      <td>C</td>\n      <td>Ship</td>\n      <td>3</td>\n      <td>5</td>\n      <td>156</td>\n      <td>3</td>\n      <td>medium</td>\n      <td>M</td>\n      <td>44</td>\n      <td>1424</td>\n      <td>1</td>\n      <td>True</td>\n    </tr>\n  </tbody>\n</table>\n<p>1457 rows × 13 columns</p>\n</div>"
     },
     "execution_count": 41,
     "metadata": {},
     "output_type": "execute_result"
    }
   ],
   "source": [
    "df['is_discount_more_10'] = df.apply(lambda row:\n",
    "                                     True if row['Discount_offered'] / row['Prior_purchases'] > 10\n",
    "                                     else False, axis=1)\n",
    "df"
   ],
   "metadata": {
    "collapsed": false,
    "ExecuteTime": {
     "end_time": "2023-11-14T22:21:40.596566100Z",
     "start_time": "2023-11-14T22:21:40.433817200Z"
    }
   }
  },
  {
   "cell_type": "markdown",
   "source": [
    "г) Додати новий стовпець, який містить середній рейтинг покупців для товарів у даному блоці."
   ],
   "metadata": {
    "collapsed": false
   }
  },
  {
   "cell_type": "code",
   "execution_count": 42,
   "outputs": [
    {
     "data": {
      "text/plain": "Warehouse_block\nA    2.938272\nB    2.971193\nC    3.028807\nD    3.061728\nF    2.960825\nName: Customer_rating, dtype: float64"
     },
     "execution_count": 42,
     "metadata": {},
     "output_type": "execute_result"
    }
   ],
   "source": [
    "average_rate_by_block = df.groupby('Warehouse_block')['Customer_rating'].mean()\n",
    "average_rate_by_block"
   ],
   "metadata": {
    "collapsed": false,
    "ExecuteTime": {
     "end_time": "2023-11-14T22:21:40.707793600Z",
     "start_time": "2023-11-14T22:21:40.467938500Z"
    }
   }
  },
  {
   "cell_type": "code",
   "execution_count": 43,
   "outputs": [
    {
     "data": {
      "text/plain": "        ID Warehouse_block Mode_of_Shipment  Customer_care_calls  \\\n0        1               D           Flight                    4   \n1        2               F           Flight                    4   \n2        3               A           Flight                    2   \n3        4               B           Flight                    3   \n4        5               C           Flight                    2   \n...    ...             ...              ...                  ...   \n1452  1453               D             Ship                    4   \n1453  1454               F             Ship                    6   \n1454  1455               A             Ship                    3   \n1455  1456               B             Ship                    4   \n1456  1457               C             Ship                    3   \n\n      Customer_rating  Cost_of_the_Product  Prior_purchases  \\\n0                   2                  177                3   \n1                   5                  216                2   \n2                   2                  183                4   \n3                   3                  176                4   \n4                   2                  184                3   \n...               ...                  ...              ...   \n1452                5                  143                3   \n1453                3                  223                6   \n1454                5                  230                2   \n1455                5                  241                4   \n1456                5                  156                3   \n\n     Product_importance Gender  Discount_offered  Weight_in_gms  \\\n0                   low      F                44           1233   \n1                   low      M                59           3088   \n2                   low      M                48           3374   \n3                medium      M                10           1177   \n4                medium      F                46           2484   \n...                 ...    ...               ...            ...   \n1452                low      F                48           1922   \n1453             medium      M                29           2980   \n1454                low      M                27           3840   \n1455             medium      M                58           2874   \n1456             medium      M                44           1424   \n\n      Reached.on.Time_Y.N  is_discount_more_10  Average_rate_by_block  \n0                       1                 True               3.061728  \n1                       1                 True               2.960825  \n2                       1                 True               2.938272  \n3                       1                False               2.971193  \n4                       1                 True               3.028807  \n...                   ...                  ...                    ...  \n1452                    1                 True               3.061728  \n1453                    1                False               2.960825  \n1454                    1                 True               2.938272  \n1455                    1                 True               2.971193  \n1456                    1                 True               3.028807  \n\n[1457 rows x 14 columns]",
      "text/html": "<div>\n<style scoped>\n    .dataframe tbody tr th:only-of-type {\n        vertical-align: middle;\n    }\n\n    .dataframe tbody tr th {\n        vertical-align: top;\n    }\n\n    .dataframe thead th {\n        text-align: right;\n    }\n</style>\n<table border=\"1\" class=\"dataframe\">\n  <thead>\n    <tr style=\"text-align: right;\">\n      <th></th>\n      <th>ID</th>\n      <th>Warehouse_block</th>\n      <th>Mode_of_Shipment</th>\n      <th>Customer_care_calls</th>\n      <th>Customer_rating</th>\n      <th>Cost_of_the_Product</th>\n      <th>Prior_purchases</th>\n      <th>Product_importance</th>\n      <th>Gender</th>\n      <th>Discount_offered</th>\n      <th>Weight_in_gms</th>\n      <th>Reached.on.Time_Y.N</th>\n      <th>is_discount_more_10</th>\n      <th>Average_rate_by_block</th>\n    </tr>\n  </thead>\n  <tbody>\n    <tr>\n      <th>0</th>\n      <td>1</td>\n      <td>D</td>\n      <td>Flight</td>\n      <td>4</td>\n      <td>2</td>\n      <td>177</td>\n      <td>3</td>\n      <td>low</td>\n      <td>F</td>\n      <td>44</td>\n      <td>1233</td>\n      <td>1</td>\n      <td>True</td>\n      <td>3.061728</td>\n    </tr>\n    <tr>\n      <th>1</th>\n      <td>2</td>\n      <td>F</td>\n      <td>Flight</td>\n      <td>4</td>\n      <td>5</td>\n      <td>216</td>\n      <td>2</td>\n      <td>low</td>\n      <td>M</td>\n      <td>59</td>\n      <td>3088</td>\n      <td>1</td>\n      <td>True</td>\n      <td>2.960825</td>\n    </tr>\n    <tr>\n      <th>2</th>\n      <td>3</td>\n      <td>A</td>\n      <td>Flight</td>\n      <td>2</td>\n      <td>2</td>\n      <td>183</td>\n      <td>4</td>\n      <td>low</td>\n      <td>M</td>\n      <td>48</td>\n      <td>3374</td>\n      <td>1</td>\n      <td>True</td>\n      <td>2.938272</td>\n    </tr>\n    <tr>\n      <th>3</th>\n      <td>4</td>\n      <td>B</td>\n      <td>Flight</td>\n      <td>3</td>\n      <td>3</td>\n      <td>176</td>\n      <td>4</td>\n      <td>medium</td>\n      <td>M</td>\n      <td>10</td>\n      <td>1177</td>\n      <td>1</td>\n      <td>False</td>\n      <td>2.971193</td>\n    </tr>\n    <tr>\n      <th>4</th>\n      <td>5</td>\n      <td>C</td>\n      <td>Flight</td>\n      <td>2</td>\n      <td>2</td>\n      <td>184</td>\n      <td>3</td>\n      <td>medium</td>\n      <td>F</td>\n      <td>46</td>\n      <td>2484</td>\n      <td>1</td>\n      <td>True</td>\n      <td>3.028807</td>\n    </tr>\n    <tr>\n      <th>...</th>\n      <td>...</td>\n      <td>...</td>\n      <td>...</td>\n      <td>...</td>\n      <td>...</td>\n      <td>...</td>\n      <td>...</td>\n      <td>...</td>\n      <td>...</td>\n      <td>...</td>\n      <td>...</td>\n      <td>...</td>\n      <td>...</td>\n      <td>...</td>\n    </tr>\n    <tr>\n      <th>1452</th>\n      <td>1453</td>\n      <td>D</td>\n      <td>Ship</td>\n      <td>4</td>\n      <td>5</td>\n      <td>143</td>\n      <td>3</td>\n      <td>low</td>\n      <td>F</td>\n      <td>48</td>\n      <td>1922</td>\n      <td>1</td>\n      <td>True</td>\n      <td>3.061728</td>\n    </tr>\n    <tr>\n      <th>1453</th>\n      <td>1454</td>\n      <td>F</td>\n      <td>Ship</td>\n      <td>6</td>\n      <td>3</td>\n      <td>223</td>\n      <td>6</td>\n      <td>medium</td>\n      <td>M</td>\n      <td>29</td>\n      <td>2980</td>\n      <td>1</td>\n      <td>False</td>\n      <td>2.960825</td>\n    </tr>\n    <tr>\n      <th>1454</th>\n      <td>1455</td>\n      <td>A</td>\n      <td>Ship</td>\n      <td>3</td>\n      <td>5</td>\n      <td>230</td>\n      <td>2</td>\n      <td>low</td>\n      <td>M</td>\n      <td>27</td>\n      <td>3840</td>\n      <td>1</td>\n      <td>True</td>\n      <td>2.938272</td>\n    </tr>\n    <tr>\n      <th>1455</th>\n      <td>1456</td>\n      <td>B</td>\n      <td>Ship</td>\n      <td>4</td>\n      <td>5</td>\n      <td>241</td>\n      <td>4</td>\n      <td>medium</td>\n      <td>M</td>\n      <td>58</td>\n      <td>2874</td>\n      <td>1</td>\n      <td>True</td>\n      <td>2.971193</td>\n    </tr>\n    <tr>\n      <th>1456</th>\n      <td>1457</td>\n      <td>C</td>\n      <td>Ship</td>\n      <td>3</td>\n      <td>5</td>\n      <td>156</td>\n      <td>3</td>\n      <td>medium</td>\n      <td>M</td>\n      <td>44</td>\n      <td>1424</td>\n      <td>1</td>\n      <td>True</td>\n      <td>3.028807</td>\n    </tr>\n  </tbody>\n</table>\n<p>1457 rows × 14 columns</p>\n</div>"
     },
     "execution_count": 43,
     "metadata": {},
     "output_type": "execute_result"
    }
   ],
   "source": [
    "df['Average_rate_by_block'] = df['Warehouse_block'].map(average_rate_by_block)\n",
    "df"
   ],
   "metadata": {
    "collapsed": false,
    "ExecuteTime": {
     "end_time": "2023-11-14T22:21:40.708793500Z",
     "start_time": "2023-11-14T22:21:40.490692200Z"
    }
   }
  }
 ],
 "metadata": {
  "kernelspec": {
   "display_name": "Python 3",
   "language": "python",
   "name": "python3"
  },
  "language_info": {
   "codemirror_mode": {
    "name": "ipython",
    "version": 2
   },
   "file_extension": ".py",
   "mimetype": "text/x-python",
   "name": "python",
   "nbconvert_exporter": "python",
   "pygments_lexer": "ipython2",
   "version": "2.7.6"
  }
 },
 "nbformat": 4,
 "nbformat_minor": 0
}
