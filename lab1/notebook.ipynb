{
 "cells": [
  {
   "cell_type": "markdown",
   "source": [
    "# Лабораторна робота №1 - Базове знайомство з бібліотекою NumPy\n",
    "## ІП-13 Ал Хадам Мурат Резгович"
   ],
   "metadata": {
    "collapsed": false
   }
  },
  {
   "cell_type": "markdown",
   "source": [
    "# Завдання до лабораторної роботи:\n",
    "## Створити програму, яка:\n",
    "1. Генерує випадкові і невипадкові масиви різними способами,зазначеними в теоретичних відомостях.\n",
    "2. Демонструє звернення до елементів масиву за допомогою індексів, в тому числі від’ємних; виділення підмасивів як одновимірних, так і багатовимірних масивів.\n",
    "3. Демонструє основні арифметичні операції над масивами, а також роботу методів reduce, accumulate, outer.\n",
    "4. Вираховує статистичні характеристики, а саме, мінімальне імаксимальне значення, вибіркові середнє, дисперсію,середньоквадратичне відхилення, медіану та 25 та 75 персентилі, величини ширина пелюстки (petal_width) з набору даних щодо квіток ірису (iris.csv)."
   ],
   "metadata": {
    "collapsed": false
   }
  },
  {
   "cell_type": "markdown",
   "source": [
    "### Завдання 1\n",
    "1. Створення масиву, елементи якого починаються з 15, закінчуються 50 з кроком 3"
   ],
   "metadata": {
    "collapsed": false
   }
  },
  {
   "cell_type": "code",
   "execution_count": 1,
   "outputs": [
    {
     "data": {
      "text/plain": "array([15, 18, 21, 24, 27, 30, 33, 36, 39, 42, 45, 48])"
     },
     "execution_count": 1,
     "metadata": {},
     "output_type": "execute_result"
    }
   ],
   "source": [
    "import numpy as np\n",
    "\n",
    "\n",
    "arr = np.arange(15, 50, 3)\n",
    "arr"
   ],
   "metadata": {
    "collapsed": false,
    "ExecuteTime": {
     "end_time": "2023-09-19T10:11:22.688086300Z",
     "start_time": "2023-09-19T10:11:22.523544400Z"
    }
   }
  },
  {
   "cell_type": "markdown",
   "source": [
    "2. Масив з деcяти цілочислених одиниць"
   ],
   "metadata": {
    "collapsed": false
   }
  },
  {
   "cell_type": "code",
   "execution_count": 2,
   "outputs": [
    {
     "data": {
      "text/plain": "array([1, 1, 1, 1, 1, 1, 1, 1, 1, 1])"
     },
     "execution_count": 2,
     "metadata": {},
     "output_type": "execute_result"
    }
   ],
   "source": [
    "arr = np.ones(10, dtype=int)\n",
    "arr"
   ],
   "metadata": {
    "collapsed": false,
    "ExecuteTime": {
     "end_time": "2023-09-19T10:11:22.697685300Z",
     "start_time": "2023-09-19T10:11:22.686083700Z"
    }
   }
  },
  {
   "cell_type": "markdown",
   "source": [
    "3. Масив двовимірний, кожний рядок якого містить пять нулів, тип даних з плаваючою точкою"
   ],
   "metadata": {
    "collapsed": false
   }
  },
  {
   "cell_type": "code",
   "execution_count": 3,
   "outputs": [
    {
     "data": {
      "text/plain": "array([[0., 0., 0., 0., 0.],\n       [0., 0., 0., 0., 0.]])"
     },
     "execution_count": 3,
     "metadata": {},
     "output_type": "execute_result"
    }
   ],
   "source": [
    "arr = np.zeros ((2, 5), dtype=float)\n",
    "arr"
   ],
   "metadata": {
    "collapsed": false,
    "ExecuteTime": {
     "end_time": "2023-09-19T10:11:22.794639700Z",
     "start_time": "2023-09-19T10:11:22.702684600Z"
    }
   }
  },
  {
   "cell_type": "markdown",
   "source": [
    "4. Масив з семи значень, розміщених рівномірно між 50 та 100."
   ],
   "metadata": {
    "collapsed": false
   }
  },
  {
   "cell_type": "code",
   "execution_count": 4,
   "outputs": [
    {
     "data": {
      "text/plain": "array([ 50.        ,  58.33333333,  66.66666667,  75.        ,\n        83.33333333,  91.66666667, 100.        ])"
     },
     "execution_count": 4,
     "metadata": {},
     "output_type": "execute_result"
    }
   ],
   "source": [
    "arr = np.linspace(50, 100, 7)\n",
    "arr"
   ],
   "metadata": {
    "collapsed": false,
    "ExecuteTime": {
     "end_time": "2023-09-19T10:11:22.794639700Z",
     "start_time": "2023-09-19T10:11:22.714287800Z"
    }
   }
  },
  {
   "cell_type": "markdown",
   "source": [
    "5. Масив 5х6 з рівномірно розподілених випадкових чисел від 0 до 1."
   ],
   "metadata": {
    "collapsed": false
   }
  },
  {
   "cell_type": "code",
   "execution_count": 5,
   "outputs": [
    {
     "data": {
      "text/plain": "array([[0.87071145, 0.00201989, 0.85616146, 0.4449738 , 0.09100902,\n        0.22655825],\n       [0.74049194, 0.84219684, 0.11767975, 0.66017374, 0.49888058,\n        0.68420892],\n       [0.93984614, 0.56456155, 0.52035642, 0.84358127, 0.13163558,\n        0.33692838],\n       [0.19554537, 0.35017846, 0.6293856 , 0.09270545, 0.86069625,\n        0.49025246],\n       [0.50198521, 0.5412618 , 0.73282993, 0.77690621, 0.76138532,\n        0.42816256]])"
     },
     "execution_count": 5,
     "metadata": {},
     "output_type": "execute_result"
    }
   ],
   "source": [
    "arr = np.random.random((5, 6))\n",
    "arr"
   ],
   "metadata": {
    "collapsed": false,
    "ExecuteTime": {
     "end_time": "2023-09-19T10:11:22.795640Z",
     "start_time": "2023-09-19T10:11:22.732281100Z"
    }
   }
  },
  {
   "cell_type": "markdown",
   "source": [
    "6. Масив 5х5 випадкових цілих чисел від 1 до 10."
   ],
   "metadata": {
    "collapsed": false
   }
  },
  {
   "cell_type": "code",
   "execution_count": 6,
   "outputs": [
    {
     "data": {
      "text/plain": "array([[2, 3, 8, 8, 4],\n       [3, 6, 4, 2, 5],\n       [9, 6, 6, 5, 6],\n       [3, 1, 5, 2, 4],\n       [8, 4, 8, 2, 1]])"
     },
     "execution_count": 6,
     "metadata": {},
     "output_type": "execute_result"
    }
   ],
   "source": [
    "arr = np.random.randint(1, 10, (5, 5))\n",
    "arr"
   ],
   "metadata": {
    "collapsed": false,
    "ExecuteTime": {
     "end_time": "2023-09-19T10:11:22.796641400Z",
     "start_time": "2023-09-19T10:11:22.744057500Z"
    }
   }
  },
  {
   "cell_type": "markdown",
   "source": [
    "7. Порожній масив з 7 елементів. Насправді, його елементами буде випадковий вміст комірок пам’яті"
   ],
   "metadata": {
    "collapsed": false
   }
  },
  {
   "cell_type": "code",
   "execution_count": 7,
   "outputs": [
    {
     "data": {
      "text/plain": "array([ 50.        ,  58.33333333,  66.66666667,  75.        ,\n        83.33333333,  91.66666667, 100.        ])"
     },
     "execution_count": 7,
     "metadata": {},
     "output_type": "execute_result"
    }
   ],
   "source": [
    "arr = np.empty(7)\n",
    "arr"
   ],
   "metadata": {
    "collapsed": false,
    "ExecuteTime": {
     "end_time": "2023-09-19T10:11:22.796641400Z",
     "start_time": "2023-09-19T10:11:22.763665800Z"
    }
   }
  },
  {
   "cell_type": "markdown",
   "source": [
    "### Завдання 2"
   ],
   "metadata": {
    "collapsed": false
   }
  },
  {
   "cell_type": "code",
   "execution_count": 8,
   "outputs": [
    {
     "data": {
      "text/plain": "(3, 3)"
     },
     "execution_count": 8,
     "metadata": {},
     "output_type": "execute_result"
    }
   ],
   "source": [
    "arr = np.array(\n",
    "    [[1, 2, 3],\n",
    "     [4, 5, 6],\n",
    "     [7, 8, 9]]\n",
    ")\n",
    "arr.shape"
   ],
   "metadata": {
    "collapsed": false,
    "ExecuteTime": {
     "end_time": "2023-09-19T10:11:22.797641300Z",
     "start_time": "2023-09-19T10:11:22.775891300Z"
    }
   }
  },
  {
   "cell_type": "markdown",
   "source": [
    "Демонструє звернення до елементів масиву за допомогою індексів, в тому числі від’ємних;"
   ],
   "metadata": {
    "collapsed": false
   }
  },
  {
   "cell_type": "code",
   "execution_count": 9,
   "outputs": [
    {
     "name": "stdout",
     "output_type": "stream",
     "text": [
      "[4 5 6]\n",
      "[7 8 9]\n",
      "1\n"
     ]
    }
   ],
   "source": [
    "print(arr[1])\n",
    "print(arr[-1])\n",
    "print(arr[0, 0])"
   ],
   "metadata": {
    "collapsed": false,
    "ExecuteTime": {
     "end_time": "2023-09-19T10:11:22.808832900Z",
     "start_time": "2023-09-19T10:11:22.790429Z"
    }
   }
  },
  {
   "cell_type": "markdown",
   "source": [
    "Демонструє виділення підмасивів як одновимірних, так і багатовимірних масивів."
   ],
   "metadata": {
    "collapsed": false
   }
  },
  {
   "cell_type": "code",
   "execution_count": 10,
   "outputs": [
    {
     "name": "stdout",
     "output_type": "stream",
     "text": [
      "[[4 5 6]\n",
      " [7 8 9]]\n",
      "[[4 5]\n",
      " [7 8]]\n"
     ]
    }
   ],
   "source": [
    "print(arr[1:])\n",
    "print(arr[1:, :2])"
   ],
   "metadata": {
    "collapsed": false,
    "ExecuteTime": {
     "end_time": "2023-09-19T10:11:22.941683Z",
     "start_time": "2023-09-19T10:11:22.807831900Z"
    }
   }
  },
  {
   "cell_type": "markdown",
   "source": [
    "### Завдання №3"
   ],
   "metadata": {
    "collapsed": false
   }
  },
  {
   "cell_type": "code",
   "execution_count": 11,
   "outputs": [
    {
     "data": {
      "text/plain": "array([1., 1., 1., 1.])"
     },
     "execution_count": 11,
     "metadata": {},
     "output_type": "execute_result"
    }
   ],
   "source": [
    "a = np.ones(4)\n",
    "a"
   ],
   "metadata": {
    "collapsed": false,
    "ExecuteTime": {
     "end_time": "2023-09-19T10:11:22.943685400Z",
     "start_time": "2023-09-19T10:11:22.824872700Z"
    }
   }
  },
  {
   "cell_type": "markdown",
   "source": [
    "Демонструє основні арифметичні операції над масивами"
   ],
   "metadata": {
    "collapsed": false
   }
  },
  {
   "cell_type": "code",
   "execution_count": 12,
   "outputs": [
    {
     "name": "stdout",
     "output_type": "stream",
     "text": [
      "[4. 4. 4. 4.]\n",
      "[-6. -6. -6. -6.]\n",
      "[-12. -12. -12. -12.]\n",
      "[-6. -6. -6. -6.]\n",
      "[36. 36. 36. 36.]\n",
      "[17. 17. 17. 17.]\n",
      "[-17. -17. -17. -17.]\n"
     ]
    }
   ],
   "source": [
    "a += 3\n",
    "print(a)\n",
    "a -= 10\n",
    "print(a)\n",
    "a *= 2\n",
    "print(a)\n",
    "a /= 2\n",
    "print(a)\n",
    "a = a ** 2\n",
    "print(a)\n",
    "a %= 19\n",
    "print(a)\n",
    "a = np.negative(a)\n",
    "print(a)"
   ],
   "metadata": {
    "collapsed": false,
    "ExecuteTime": {
     "end_time": "2023-09-19T10:11:22.988407900Z",
     "start_time": "2023-09-19T10:11:22.837465600Z"
    }
   }
  },
  {
   "cell_type": "markdown",
   "source": [
    "A також роботу методів reduce, accumulate, outer."
   ],
   "metadata": {
    "collapsed": false
   }
  },
  {
   "cell_type": "code",
   "execution_count": 13,
   "outputs": [
    {
     "name": "stdout",
     "output_type": "stream",
     "text": [
      "[0 1 2 3 4 5]\n"
     ]
    },
    {
     "data": {
      "text/plain": "15"
     },
     "execution_count": 13,
     "metadata": {},
     "output_type": "execute_result"
    }
   ],
   "source": [
    "a = np.arange(0, 6)\n",
    "print(a)\n",
    "np.add.reduce(a)"
   ],
   "metadata": {
    "collapsed": false,
    "ExecuteTime": {
     "end_time": "2023-09-19T10:11:22.989410900Z",
     "start_time": "2023-09-19T10:11:22.854512500Z"
    }
   }
  },
  {
   "cell_type": "code",
   "execution_count": 14,
   "outputs": [
    {
     "data": {
      "text/plain": "array([ 0,  1,  3,  6, 10, 15])"
     },
     "execution_count": 14,
     "metadata": {},
     "output_type": "execute_result"
    }
   ],
   "source": [
    "np.add.accumulate(a)"
   ],
   "metadata": {
    "collapsed": false,
    "ExecuteTime": {
     "end_time": "2023-09-19T10:11:22.990409Z",
     "start_time": "2023-09-19T10:11:22.872025700Z"
    }
   }
  },
  {
   "cell_type": "code",
   "execution_count": 15,
   "outputs": [
    {
     "name": "stdout",
     "output_type": "stream",
     "text": [
      "[1 2 3 4 5 6 7 8 9]\n"
     ]
    },
    {
     "data": {
      "text/plain": "array([[ 1,  2,  3,  4,  5,  6,  7,  8,  9],\n       [ 2,  4,  6,  8, 10, 12, 14, 16, 18],\n       [ 3,  6,  9, 12, 15, 18, 21, 24, 27],\n       [ 4,  8, 12, 16, 20, 24, 28, 32, 36],\n       [ 5, 10, 15, 20, 25, 30, 35, 40, 45],\n       [ 6, 12, 18, 24, 30, 36, 42, 48, 54],\n       [ 7, 14, 21, 28, 35, 42, 49, 56, 63],\n       [ 8, 16, 24, 32, 40, 48, 56, 64, 72],\n       [ 9, 18, 27, 36, 45, 54, 63, 72, 81]])"
     },
     "execution_count": 15,
     "metadata": {},
     "output_type": "execute_result"
    }
   ],
   "source": [
    "a = np.arange(1, 10)\n",
    "print(a)\n",
    "np.multiply.outer(a, a)"
   ],
   "metadata": {
    "collapsed": false,
    "ExecuteTime": {
     "end_time": "2023-09-19T10:11:22.991409700Z",
     "start_time": "2023-09-19T10:11:22.886627100Z"
    }
   }
  },
  {
   "cell_type": "markdown",
   "source": [
    "### Завдання №4\n",
    "Вираховує статистичні характеристики, а саме, мінімальне і максимальне значення, вибіркові середнє, дисперсію, середньоквадратичне відхилення, медіану та 25 та 75 персентилі, величини ширина пелюстки (petal_width) з набору даних щодо квіток ірису (iris.csv)."
   ],
   "metadata": {
    "collapsed": false
   }
  },
  {
   "cell_type": "code",
   "execution_count": 16,
   "outputs": [
    {
     "data": {
      "text/plain": "     sepal_length  sepal_width  petal_length  petal_width           class\n0             5.1          3.5           1.4          0.2     Iris-setosa\n1             4.9          3.0           1.4          0.2     Iris-setosa\n2             4.7          3.2           1.3          0.2     Iris-setosa\n3             4.6          3.1           1.5          0.2     Iris-setosa\n4             5.0          3.6           1.4          0.2     Iris-setosa\n..            ...          ...           ...          ...             ...\n145           6.7          3.0           5.2          2.3  Iris-virginica\n146           6.3          2.5           5.0          1.9  Iris-virginica\n147           6.5          3.0           5.2          2.0  Iris-virginica\n148           6.2          3.4           5.4          2.3  Iris-virginica\n149           5.9          3.0           5.1          1.8  Iris-virginica\n\n[150 rows x 5 columns]",
      "text/html": "<div>\n<style scoped>\n    .dataframe tbody tr th:only-of-type {\n        vertical-align: middle;\n    }\n\n    .dataframe tbody tr th {\n        vertical-align: top;\n    }\n\n    .dataframe thead th {\n        text-align: right;\n    }\n</style>\n<table border=\"1\" class=\"dataframe\">\n  <thead>\n    <tr style=\"text-align: right;\">\n      <th></th>\n      <th>sepal_length</th>\n      <th>sepal_width</th>\n      <th>petal_length</th>\n      <th>petal_width</th>\n      <th>class</th>\n    </tr>\n  </thead>\n  <tbody>\n    <tr>\n      <th>0</th>\n      <td>5.1</td>\n      <td>3.5</td>\n      <td>1.4</td>\n      <td>0.2</td>\n      <td>Iris-setosa</td>\n    </tr>\n    <tr>\n      <th>1</th>\n      <td>4.9</td>\n      <td>3.0</td>\n      <td>1.4</td>\n      <td>0.2</td>\n      <td>Iris-setosa</td>\n    </tr>\n    <tr>\n      <th>2</th>\n      <td>4.7</td>\n      <td>3.2</td>\n      <td>1.3</td>\n      <td>0.2</td>\n      <td>Iris-setosa</td>\n    </tr>\n    <tr>\n      <th>3</th>\n      <td>4.6</td>\n      <td>3.1</td>\n      <td>1.5</td>\n      <td>0.2</td>\n      <td>Iris-setosa</td>\n    </tr>\n    <tr>\n      <th>4</th>\n      <td>5.0</td>\n      <td>3.6</td>\n      <td>1.4</td>\n      <td>0.2</td>\n      <td>Iris-setosa</td>\n    </tr>\n    <tr>\n      <th>...</th>\n      <td>...</td>\n      <td>...</td>\n      <td>...</td>\n      <td>...</td>\n      <td>...</td>\n    </tr>\n    <tr>\n      <th>145</th>\n      <td>6.7</td>\n      <td>3.0</td>\n      <td>5.2</td>\n      <td>2.3</td>\n      <td>Iris-virginica</td>\n    </tr>\n    <tr>\n      <th>146</th>\n      <td>6.3</td>\n      <td>2.5</td>\n      <td>5.0</td>\n      <td>1.9</td>\n      <td>Iris-virginica</td>\n    </tr>\n    <tr>\n      <th>147</th>\n      <td>6.5</td>\n      <td>3.0</td>\n      <td>5.2</td>\n      <td>2.0</td>\n      <td>Iris-virginica</td>\n    </tr>\n    <tr>\n      <th>148</th>\n      <td>6.2</td>\n      <td>3.4</td>\n      <td>5.4</td>\n      <td>2.3</td>\n      <td>Iris-virginica</td>\n    </tr>\n    <tr>\n      <th>149</th>\n      <td>5.9</td>\n      <td>3.0</td>\n      <td>5.1</td>\n      <td>1.8</td>\n      <td>Iris-virginica</td>\n    </tr>\n  </tbody>\n</table>\n<p>150 rows × 5 columns</p>\n</div>"
     },
     "execution_count": 16,
     "metadata": {},
     "output_type": "execute_result"
    }
   ],
   "source": [
    "import pandas as pd\n",
    "\n",
    "\n",
    "iris = pd.read_csv('iris.csv')\n",
    "petal = np.array(iris['petal_width'])\n",
    "iris"
   ],
   "metadata": {
    "collapsed": false,
    "ExecuteTime": {
     "end_time": "2023-09-19T10:11:23.305837300Z",
     "start_time": "2023-09-19T10:11:22.904855500Z"
    }
   }
  },
  {
   "cell_type": "code",
   "execution_count": 17,
   "outputs": [
    {
     "data": {
      "text/plain": "       sepal_length  sepal_width  petal_length  petal_width\ncount    150.000000   150.000000    150.000000   150.000000\nmean       5.843333     3.054000      3.758667     1.198667\nstd        0.828066     0.433594      1.764420     0.763161\nmin        4.300000     2.000000      1.000000     0.100000\n25%        5.100000     2.800000      1.600000     0.300000\n50%        5.800000     3.000000      4.350000     1.300000\n75%        6.400000     3.300000      5.100000     1.800000\nmax        7.900000     4.400000      6.900000     2.500000",
      "text/html": "<div>\n<style scoped>\n    .dataframe tbody tr th:only-of-type {\n        vertical-align: middle;\n    }\n\n    .dataframe tbody tr th {\n        vertical-align: top;\n    }\n\n    .dataframe thead th {\n        text-align: right;\n    }\n</style>\n<table border=\"1\" class=\"dataframe\">\n  <thead>\n    <tr style=\"text-align: right;\">\n      <th></th>\n      <th>sepal_length</th>\n      <th>sepal_width</th>\n      <th>petal_length</th>\n      <th>petal_width</th>\n    </tr>\n  </thead>\n  <tbody>\n    <tr>\n      <th>count</th>\n      <td>150.000000</td>\n      <td>150.000000</td>\n      <td>150.000000</td>\n      <td>150.000000</td>\n    </tr>\n    <tr>\n      <th>mean</th>\n      <td>5.843333</td>\n      <td>3.054000</td>\n      <td>3.758667</td>\n      <td>1.198667</td>\n    </tr>\n    <tr>\n      <th>std</th>\n      <td>0.828066</td>\n      <td>0.433594</td>\n      <td>1.764420</td>\n      <td>0.763161</td>\n    </tr>\n    <tr>\n      <th>min</th>\n      <td>4.300000</td>\n      <td>2.000000</td>\n      <td>1.000000</td>\n      <td>0.100000</td>\n    </tr>\n    <tr>\n      <th>25%</th>\n      <td>5.100000</td>\n      <td>2.800000</td>\n      <td>1.600000</td>\n      <td>0.300000</td>\n    </tr>\n    <tr>\n      <th>50%</th>\n      <td>5.800000</td>\n      <td>3.000000</td>\n      <td>4.350000</td>\n      <td>1.300000</td>\n    </tr>\n    <tr>\n      <th>75%</th>\n      <td>6.400000</td>\n      <td>3.300000</td>\n      <td>5.100000</td>\n      <td>1.800000</td>\n    </tr>\n    <tr>\n      <th>max</th>\n      <td>7.900000</td>\n      <td>4.400000</td>\n      <td>6.900000</td>\n      <td>2.500000</td>\n    </tr>\n  </tbody>\n</table>\n</div>"
     },
     "execution_count": 17,
     "metadata": {},
     "output_type": "execute_result"
    }
   ],
   "source": [
    "iris.describe()"
   ],
   "metadata": {
    "collapsed": false,
    "ExecuteTime": {
     "end_time": "2023-09-19T10:11:23.348993900Z",
     "start_time": "2023-09-19T10:11:23.306838800Z"
    }
   }
  },
  {
   "cell_type": "code",
   "execution_count": 18,
   "outputs": [
    {
     "name": "stdout",
     "output_type": "stream",
     "text": [
      "Min value of petal_length: 0.1\n",
      "Max value of petal_length: 2.5\n",
      "\n",
      "Sum of petal_length values: 179.8\n",
      "Mean value of petal_length: 1.1986666666666668\n",
      "\n",
      "Standard deviation of petal_length: 0.7606126185881716\n",
      "Variance of petal_length: 0.5785315555555555\n",
      "\n",
      "The 25th percentile of petal_length: 0.3\n",
      "Median value of petal_length: 1.3\n",
      "The 75th percentile of petal_length: 1.8\n"
     ]
    }
   ],
   "source": [
    "print('Min value of petal_length:', np.min(petal))\n",
    "print('Max value of petal_length:', np.max(petal))\n",
    "\n",
    "print('\\nSum of petal_length values:', np.sum(petal))\n",
    "print('Mean value of petal_length:', np.mean(petal))\n",
    "\n",
    "print('\\nStandard deviation of petal_length:', np.std(petal))\n",
    "print('Variance of petal_length:', np.var(petal))\n",
    "\n",
    "print('\\nThe 25th percentile of petal_length:', np.percentile(petal, 25))\n",
    "print('Median value of petal_length:', np.median(petal))\n",
    "print('The 75th percentile of petal_length:', np.percentile(petal, 75))"
   ],
   "metadata": {
    "collapsed": false,
    "ExecuteTime": {
     "end_time": "2023-09-19T10:11:23.361557300Z",
     "start_time": "2023-09-19T10:11:23.336481500Z"
    }
   }
  }
 ],
 "metadata": {
  "kernelspec": {
   "display_name": "Python 3",
   "language": "python",
   "name": "python3"
  },
  "language_info": {
   "codemirror_mode": {
    "name": "ipython",
    "version": 2
   },
   "file_extension": ".py",
   "mimetype": "text/x-python",
   "name": "python",
   "nbconvert_exporter": "python",
   "pygments_lexer": "ipython2",
   "version": "2.7.6"
  }
 },
 "nbformat": 4,
 "nbformat_minor": 0
}
