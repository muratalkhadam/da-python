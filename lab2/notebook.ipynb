{
 "cells": [
  {
   "cell_type": "markdown",
   "source": [
    "# Лабораторна робота 2. Аналіз даних мовою Python\n",
    "# Ал Хадам Мурат ІП-13 - Варіант 15"
   ],
   "metadata": {
    "collapsed": false
   }
  },
  {
   "cell_type": "code",
   "execution_count": 1,
   "metadata": {
    "collapsed": true,
    "ExecuteTime": {
     "end_time": "2023-11-01T14:48:01.886333400Z",
     "start_time": "2023-11-01T14:47:57.208692300Z"
    }
   },
   "outputs": [
    {
     "data": {
      "text/plain": "     Unnamed: 0   wfood   wfuel  wcloth    walc  wtrans  wother  totexp  \\\n0             1  0.4272  0.1342  0.0000  0.0106  0.1458  0.2822      50   \n1             2  0.3739  0.1686  0.0091  0.0825  0.1215  0.2444      90   \n2             3  0.1941  0.4056  0.0012  0.0513  0.2063  0.1415     180   \n3             4  0.4438  0.1258  0.0539  0.0397  0.0652  0.2716      80   \n4             5  0.3331  0.0824  0.0399  0.1571  0.2403  0.1473      90   \n..          ...     ...     ...     ...     ...     ...     ...     ...   \n214         215  0.2864  0.1532  0.1863  0.0425  0.1564  0.1752      80   \n215         216  0.3427  0.0732  0.0129  0.2666  0.0003  0.3043     140   \n216         217  0.2955  0.0898  0.0247  0.1761  0.1408  0.2729     100   \n217         218  0.3380  0.0772  0.0751  0.1590  0.0848  0.2659     120   \n218         219  0.4854  0.1069  0.1545  0.0470  0.0147  0.1915      70   \n\n     income  age  children  \n0       130   25         2  \n1       150   39         2  \n2       230   47         2  \n3       100   33         2  \n4       100   31         1  \n..      ...  ...       ...  \n214     120   37         2  \n215     120   41         2  \n216     100   30         1  \n217     130   34         2  \n218      80   30         2  \n\n[219 rows x 11 columns]",
      "text/html": "<div>\n<style scoped>\n    .dataframe tbody tr th:only-of-type {\n        vertical-align: middle;\n    }\n\n    .dataframe tbody tr th {\n        vertical-align: top;\n    }\n\n    .dataframe thead th {\n        text-align: right;\n    }\n</style>\n<table border=\"1\" class=\"dataframe\">\n  <thead>\n    <tr style=\"text-align: right;\">\n      <th></th>\n      <th>Unnamed: 0</th>\n      <th>wfood</th>\n      <th>wfuel</th>\n      <th>wcloth</th>\n      <th>walc</th>\n      <th>wtrans</th>\n      <th>wother</th>\n      <th>totexp</th>\n      <th>income</th>\n      <th>age</th>\n      <th>children</th>\n    </tr>\n  </thead>\n  <tbody>\n    <tr>\n      <th>0</th>\n      <td>1</td>\n      <td>0.4272</td>\n      <td>0.1342</td>\n      <td>0.0000</td>\n      <td>0.0106</td>\n      <td>0.1458</td>\n      <td>0.2822</td>\n      <td>50</td>\n      <td>130</td>\n      <td>25</td>\n      <td>2</td>\n    </tr>\n    <tr>\n      <th>1</th>\n      <td>2</td>\n      <td>0.3739</td>\n      <td>0.1686</td>\n      <td>0.0091</td>\n      <td>0.0825</td>\n      <td>0.1215</td>\n      <td>0.2444</td>\n      <td>90</td>\n      <td>150</td>\n      <td>39</td>\n      <td>2</td>\n    </tr>\n    <tr>\n      <th>2</th>\n      <td>3</td>\n      <td>0.1941</td>\n      <td>0.4056</td>\n      <td>0.0012</td>\n      <td>0.0513</td>\n      <td>0.2063</td>\n      <td>0.1415</td>\n      <td>180</td>\n      <td>230</td>\n      <td>47</td>\n      <td>2</td>\n    </tr>\n    <tr>\n      <th>3</th>\n      <td>4</td>\n      <td>0.4438</td>\n      <td>0.1258</td>\n      <td>0.0539</td>\n      <td>0.0397</td>\n      <td>0.0652</td>\n      <td>0.2716</td>\n      <td>80</td>\n      <td>100</td>\n      <td>33</td>\n      <td>2</td>\n    </tr>\n    <tr>\n      <th>4</th>\n      <td>5</td>\n      <td>0.3331</td>\n      <td>0.0824</td>\n      <td>0.0399</td>\n      <td>0.1571</td>\n      <td>0.2403</td>\n      <td>0.1473</td>\n      <td>90</td>\n      <td>100</td>\n      <td>31</td>\n      <td>1</td>\n    </tr>\n    <tr>\n      <th>...</th>\n      <td>...</td>\n      <td>...</td>\n      <td>...</td>\n      <td>...</td>\n      <td>...</td>\n      <td>...</td>\n      <td>...</td>\n      <td>...</td>\n      <td>...</td>\n      <td>...</td>\n      <td>...</td>\n    </tr>\n    <tr>\n      <th>214</th>\n      <td>215</td>\n      <td>0.2864</td>\n      <td>0.1532</td>\n      <td>0.1863</td>\n      <td>0.0425</td>\n      <td>0.1564</td>\n      <td>0.1752</td>\n      <td>80</td>\n      <td>120</td>\n      <td>37</td>\n      <td>2</td>\n    </tr>\n    <tr>\n      <th>215</th>\n      <td>216</td>\n      <td>0.3427</td>\n      <td>0.0732</td>\n      <td>0.0129</td>\n      <td>0.2666</td>\n      <td>0.0003</td>\n      <td>0.3043</td>\n      <td>140</td>\n      <td>120</td>\n      <td>41</td>\n      <td>2</td>\n    </tr>\n    <tr>\n      <th>216</th>\n      <td>217</td>\n      <td>0.2955</td>\n      <td>0.0898</td>\n      <td>0.0247</td>\n      <td>0.1761</td>\n      <td>0.1408</td>\n      <td>0.2729</td>\n      <td>100</td>\n      <td>100</td>\n      <td>30</td>\n      <td>1</td>\n    </tr>\n    <tr>\n      <th>217</th>\n      <td>218</td>\n      <td>0.3380</td>\n      <td>0.0772</td>\n      <td>0.0751</td>\n      <td>0.1590</td>\n      <td>0.0848</td>\n      <td>0.2659</td>\n      <td>120</td>\n      <td>130</td>\n      <td>34</td>\n      <td>2</td>\n    </tr>\n    <tr>\n      <th>218</th>\n      <td>219</td>\n      <td>0.4854</td>\n      <td>0.1069</td>\n      <td>0.1545</td>\n      <td>0.0470</td>\n      <td>0.0147</td>\n      <td>0.1915</td>\n      <td>70</td>\n      <td>80</td>\n      <td>30</td>\n      <td>2</td>\n    </tr>\n  </tbody>\n</table>\n<p>219 rows × 11 columns</p>\n</div>"
     },
     "execution_count": 1,
     "metadata": {},
     "output_type": "execute_result"
    }
   ],
   "source": [
    "import pandas as pd\n",
    "from statistics import mean\n",
    "from scipy import stats\n",
    "import matplotlib.pyplot as plt\n",
    "\n",
    "\n",
    "df = pd.read_csv('data/Budget.csv')\n",
    "df"
   ]
  },
  {
   "cell_type": "code",
   "execution_count": 2,
   "outputs": [
    {
     "data": {
      "text/plain": "      wfood   wfuel  wcloth    walc  wtrans  wother  totexp  income  age  \\\n0    0.4272  0.1342  0.0000  0.0106  0.1458  0.2822      50     130   25   \n1    0.3739  0.1686  0.0091  0.0825  0.1215  0.2444      90     150   39   \n2    0.1941  0.4056  0.0012  0.0513  0.2063  0.1415     180     230   47   \n3    0.4438  0.1258  0.0539  0.0397  0.0652  0.2716      80     100   33   \n4    0.3331  0.0824  0.0399  0.1571  0.2403  0.1473      90     100   31   \n..      ...     ...     ...     ...     ...     ...     ...     ...  ...   \n214  0.2864  0.1532  0.1863  0.0425  0.1564  0.1752      80     120   37   \n215  0.3427  0.0732  0.0129  0.2666  0.0003  0.3043     140     120   41   \n216  0.2955  0.0898  0.0247  0.1761  0.1408  0.2729     100     100   30   \n217  0.3380  0.0772  0.0751  0.1590  0.0848  0.2659     120     130   34   \n218  0.4854  0.1069  0.1545  0.0470  0.0147  0.1915      70      80   30   \n\n     children  \n0           2  \n1           2  \n2           2  \n3           2  \n4           1  \n..        ...  \n214         2  \n215         2  \n216         1  \n217         2  \n218         2  \n\n[219 rows x 10 columns]",
      "text/html": "<div>\n<style scoped>\n    .dataframe tbody tr th:only-of-type {\n        vertical-align: middle;\n    }\n\n    .dataframe tbody tr th {\n        vertical-align: top;\n    }\n\n    .dataframe thead th {\n        text-align: right;\n    }\n</style>\n<table border=\"1\" class=\"dataframe\">\n  <thead>\n    <tr style=\"text-align: right;\">\n      <th></th>\n      <th>wfood</th>\n      <th>wfuel</th>\n      <th>wcloth</th>\n      <th>walc</th>\n      <th>wtrans</th>\n      <th>wother</th>\n      <th>totexp</th>\n      <th>income</th>\n      <th>age</th>\n      <th>children</th>\n    </tr>\n  </thead>\n  <tbody>\n    <tr>\n      <th>0</th>\n      <td>0.4272</td>\n      <td>0.1342</td>\n      <td>0.0000</td>\n      <td>0.0106</td>\n      <td>0.1458</td>\n      <td>0.2822</td>\n      <td>50</td>\n      <td>130</td>\n      <td>25</td>\n      <td>2</td>\n    </tr>\n    <tr>\n      <th>1</th>\n      <td>0.3739</td>\n      <td>0.1686</td>\n      <td>0.0091</td>\n      <td>0.0825</td>\n      <td>0.1215</td>\n      <td>0.2444</td>\n      <td>90</td>\n      <td>150</td>\n      <td>39</td>\n      <td>2</td>\n    </tr>\n    <tr>\n      <th>2</th>\n      <td>0.1941</td>\n      <td>0.4056</td>\n      <td>0.0012</td>\n      <td>0.0513</td>\n      <td>0.2063</td>\n      <td>0.1415</td>\n      <td>180</td>\n      <td>230</td>\n      <td>47</td>\n      <td>2</td>\n    </tr>\n    <tr>\n      <th>3</th>\n      <td>0.4438</td>\n      <td>0.1258</td>\n      <td>0.0539</td>\n      <td>0.0397</td>\n      <td>0.0652</td>\n      <td>0.2716</td>\n      <td>80</td>\n      <td>100</td>\n      <td>33</td>\n      <td>2</td>\n    </tr>\n    <tr>\n      <th>4</th>\n      <td>0.3331</td>\n      <td>0.0824</td>\n      <td>0.0399</td>\n      <td>0.1571</td>\n      <td>0.2403</td>\n      <td>0.1473</td>\n      <td>90</td>\n      <td>100</td>\n      <td>31</td>\n      <td>1</td>\n    </tr>\n    <tr>\n      <th>...</th>\n      <td>...</td>\n      <td>...</td>\n      <td>...</td>\n      <td>...</td>\n      <td>...</td>\n      <td>...</td>\n      <td>...</td>\n      <td>...</td>\n      <td>...</td>\n      <td>...</td>\n    </tr>\n    <tr>\n      <th>214</th>\n      <td>0.2864</td>\n      <td>0.1532</td>\n      <td>0.1863</td>\n      <td>0.0425</td>\n      <td>0.1564</td>\n      <td>0.1752</td>\n      <td>80</td>\n      <td>120</td>\n      <td>37</td>\n      <td>2</td>\n    </tr>\n    <tr>\n      <th>215</th>\n      <td>0.3427</td>\n      <td>0.0732</td>\n      <td>0.0129</td>\n      <td>0.2666</td>\n      <td>0.0003</td>\n      <td>0.3043</td>\n      <td>140</td>\n      <td>120</td>\n      <td>41</td>\n      <td>2</td>\n    </tr>\n    <tr>\n      <th>216</th>\n      <td>0.2955</td>\n      <td>0.0898</td>\n      <td>0.0247</td>\n      <td>0.1761</td>\n      <td>0.1408</td>\n      <td>0.2729</td>\n      <td>100</td>\n      <td>100</td>\n      <td>30</td>\n      <td>1</td>\n    </tr>\n    <tr>\n      <th>217</th>\n      <td>0.3380</td>\n      <td>0.0772</td>\n      <td>0.0751</td>\n      <td>0.1590</td>\n      <td>0.0848</td>\n      <td>0.2659</td>\n      <td>120</td>\n      <td>130</td>\n      <td>34</td>\n      <td>2</td>\n    </tr>\n    <tr>\n      <th>218</th>\n      <td>0.4854</td>\n      <td>0.1069</td>\n      <td>0.1545</td>\n      <td>0.0470</td>\n      <td>0.0147</td>\n      <td>0.1915</td>\n      <td>70</td>\n      <td>80</td>\n      <td>30</td>\n      <td>2</td>\n    </tr>\n  </tbody>\n</table>\n<p>219 rows × 10 columns</p>\n</div>"
     },
     "execution_count": 2,
     "metadata": {},
     "output_type": "execute_result"
    }
   ],
   "source": [
    "df = df.iloc[:, 1:]\n",
    "df"
   ],
   "metadata": {
    "collapsed": false,
    "ExecuteTime": {
     "end_time": "2023-11-01T14:48:01.950770500Z",
     "start_time": "2023-11-01T14:48:01.885333900Z"
    }
   }
  },
  {
   "cell_type": "markdown",
   "source": [
    "Рівень значущості"
   ],
   "metadata": {
    "collapsed": false
   }
  },
  {
   "cell_type": "code",
   "execution_count": 3,
   "outputs": [],
   "source": [
    "alpha = 0.05"
   ],
   "metadata": {
    "collapsed": false,
    "ExecuteTime": {
     "end_time": "2023-11-01T14:48:01.950770500Z",
     "start_time": "2023-11-01T14:48:01.914889800Z"
    }
   }
  },
  {
   "cell_type": "markdown",
   "source": [
    "## 1. Які середні витрати та їх середньоквадратичне відхилення?"
   ],
   "metadata": {
    "collapsed": false
   }
  },
  {
   "cell_type": "code",
   "execution_count": 4,
   "outputs": [
    {
     "data": {
      "text/plain": "0       50\n1       90\n2      180\n3       80\n4       90\n      ... \n214     80\n215    140\n216    100\n217    120\n218     70\nName: totexp, Length: 219, dtype: int64"
     },
     "execution_count": 4,
     "metadata": {},
     "output_type": "execute_result"
    }
   ],
   "source": [
    "spendings = df['totexp']\n",
    "spendings"
   ],
   "metadata": {
    "collapsed": false,
    "ExecuteTime": {
     "end_time": "2023-11-01T14:48:02.113526200Z",
     "start_time": "2023-11-01T14:48:01.933142100Z"
    }
   }
  },
  {
   "cell_type": "code",
   "execution_count": 5,
   "outputs": [
    {
     "name": "stdout",
     "output_type": "stream",
     "text": [
      "Середнє значення витрат для кожної сім'ї: 96.03\n"
     ]
    }
   ],
   "source": [
    "print(\"Середнє значення витрат для кожної сім'ї:\", round(spendings.mean(), 2))"
   ],
   "metadata": {
    "collapsed": false,
    "ExecuteTime": {
     "end_time": "2023-11-01T14:48:02.171443400Z",
     "start_time": "2023-11-01T14:48:01.948768Z"
    }
   }
  },
  {
   "cell_type": "code",
   "execution_count": 6,
   "outputs": [
    {
     "name": "stdout",
     "output_type": "stream",
     "text": [
      "Середньоквадратичне відхилення набору значень витрат: 45.05\n"
     ]
    }
   ],
   "source": [
    "print(\"Середньоквадратичне відхилення набору значень витрат:\", round(spendings.std(), 2))"
   ],
   "metadata": {
    "collapsed": false,
    "ExecuteTime": {
     "end_time": "2023-11-01T14:48:02.253843600Z",
     "start_time": "2023-11-01T14:48:01.963305300Z"
    }
   }
  },
  {
   "cell_type": "markdown",
   "source": [
    "## 2. Перевірити чи нормально розподілений вік."
   ],
   "metadata": {
    "collapsed": false
   }
  },
  {
   "cell_type": "code",
   "execution_count": 7,
   "outputs": [
    {
     "data": {
      "text/plain": "0      25\n1      39\n2      47\n3      33\n4      31\n       ..\n214    37\n215    41\n216    30\n217    34\n218    30\nName: age, Length: 219, dtype: int64"
     },
     "execution_count": 7,
     "metadata": {},
     "output_type": "execute_result"
    }
   ],
   "source": [
    "ages = df['age']\n",
    "ages"
   ],
   "metadata": {
    "collapsed": false,
    "ExecuteTime": {
     "end_time": "2023-11-01T14:48:02.325765700Z",
     "start_time": "2023-11-01T14:48:01.977940800Z"
    }
   }
  },
  {
   "cell_type": "markdown",
   "source": [
    "### Висуваємо нульову гіпотезу H0: вік найстаршого в сім'ї розподілений нормально.\n",
    "### Альтернативна гіпотеза Н1:  вік найстаршого в сім'ї розподілений не нормально."
   ],
   "metadata": {
    "collapsed": false
   }
  },
  {
   "cell_type": "code",
   "execution_count": 8,
   "outputs": [
    {
     "name": "stdout",
     "output_type": "stream",
     "text": [
      "Статистика: 14.807729478754993\n"
     ]
    }
   ],
   "source": [
    "test_age, p_value = stats.normaltest(ages)\n",
    "\n",
    "print(\"Статистика:\", test_age)"
   ],
   "metadata": {
    "collapsed": false,
    "ExecuteTime": {
     "end_time": "2023-11-01T14:48:02.326769800Z",
     "start_time": "2023-11-01T14:48:02.001152700Z"
    }
   }
  },
  {
   "cell_type": "code",
   "execution_count": 9,
   "outputs": [
    {
     "name": "stdout",
     "output_type": "stream",
     "text": [
      "Відхиляємо нульову гіпотезу. Розподіл не є нормальним.\n"
     ]
    }
   ],
   "source": [
    "if p_value < alpha:\n",
    "    print(\"Відхиляємо нульову гіпотезу. Розподіл не є нормальним.\")\n",
    "else:\n",
    "    print(\"Приймаємо нульову гіпотезу. Розподіл є нормальним.\")"
   ],
   "metadata": {
    "collapsed": false,
    "ExecuteTime": {
     "end_time": "2023-11-01T14:48:02.327760700Z",
     "start_time": "2023-11-01T14:48:02.008674400Z"
    }
   }
  },
  {
   "cell_type": "code",
   "execution_count": 10,
   "outputs": [
    {
     "data": {
      "text/plain": "(array([ 4., 27., 38., 52., 37., 22., 10., 17.,  8.,  4.]),\n array([19., 23., 27., 31., 35., 39., 43., 47., 51., 55., 59.]),\n <BarContainer object of 10 artists>)"
     },
     "execution_count": 10,
     "metadata": {},
     "output_type": "execute_result"
    },
    {
     "data": {
      "text/plain": "<Figure size 640x480 with 1 Axes>",
      "image/png": "[encoded data removed]"
     },
     "metadata": {},
     "output_type": "display_data"
    }
   ],
   "source": [
    "plt.hist(ages)"
   ],
   "metadata": {
    "collapsed": false,
    "ExecuteTime": {
     "end_time": "2023-11-01T14:48:02.450052900Z",
     "start_time": "2023-11-01T14:48:02.035702Z"
    }
   }
  },
  {
   "cell_type": "markdown",
   "source": [
    "З гістограми розподілу справді бачимо, що вік розподіленний `не за нормальним законом`."
   ],
   "metadata": {
    "collapsed": false
   }
  },
  {
   "cell_type": "markdown",
   "source": [
    "## 3. Чи є зв’язок між витратами на алкоголь та витратами на їжу?"
   ],
   "metadata": {
    "collapsed": false
   }
  },
  {
   "cell_type": "code",
   "execution_count": 11,
   "outputs": [
    {
     "data": {
      "text/plain": "0      0.0106\n1      0.0825\n2      0.0513\n3      0.0397\n4      0.1571\n        ...  \n214    0.0425\n215    0.2666\n216    0.1761\n217    0.1590\n218    0.0470\nName: walc, Length: 219, dtype: float64"
     },
     "execution_count": 11,
     "metadata": {},
     "output_type": "execute_result"
    }
   ],
   "source": [
    "for_alco = df['walc']\n",
    "for_alco"
   ],
   "metadata": {
    "collapsed": false,
    "ExecuteTime": {
     "end_time": "2023-11-01T14:48:02.451052200Z",
     "start_time": "2023-11-01T14:48:02.260379900Z"
    }
   }
  },
  {
   "cell_type": "code",
   "execution_count": 12,
   "outputs": [
    {
     "data": {
      "text/plain": "0      0.4272\n1      0.3739\n2      0.1941\n3      0.4438\n4      0.3331\n        ...  \n214    0.2864\n215    0.3427\n216    0.2955\n217    0.3380\n218    0.4854\nName: wfood, Length: 219, dtype: float64"
     },
     "execution_count": 12,
     "metadata": {},
     "output_type": "execute_result"
    }
   ],
   "source": [
    "for_food = df['wfood']\n",
    "for_food"
   ],
   "metadata": {
    "collapsed": false,
    "ExecuteTime": {
     "end_time": "2023-11-01T14:48:02.642320600Z",
     "start_time": "2023-11-01T14:48:02.276108400Z"
    }
   }
  },
  {
   "cell_type": "markdown",
   "source": [
    "Перевіримо чи розподілені нормально вибірки."
   ],
   "metadata": {
    "collapsed": false
   }
  },
  {
   "cell_type": "code",
   "execution_count": 13,
   "outputs": [
    {
     "name": "stdout",
     "output_type": "stream",
     "text": [
      "Відхиляємо нульову гіпотезу. Розподіл не є нормальним.\n"
     ]
    }
   ],
   "source": [
    "_, p_value_for_alco = stats.normaltest(for_alco)\n",
    "\n",
    "if p_value_for_alco < alpha:\n",
    "    print(\"Відхиляємо нульову гіпотезу. Розподіл не є нормальним.\")\n",
    "else:\n",
    "    print(\"Приймаємо нульову гіпотезу. Розподіл є нормальним.\")"
   ],
   "metadata": {
    "collapsed": false,
    "ExecuteTime": {
     "end_time": "2023-11-01T14:48:02.643323400Z",
     "start_time": "2023-11-01T14:48:02.289155100Z"
    }
   }
  },
  {
   "cell_type": "code",
   "execution_count": 14,
   "outputs": [
    {
     "name": "stdout",
     "output_type": "stream",
     "text": [
      "Приймаємо нульову гіпотезу. Розподіл є нормальним.\n"
     ]
    }
   ],
   "source": [
    "_, p_value_for_food = stats.normaltest(for_food)\n",
    "\n",
    "if p_value_for_food < alpha:\n",
    "    print(\"Відхиляємо нульову гіпотезу. Розподіл не є нормальним.\")\n",
    "else:\n",
    "    print(\"Приймаємо нульову гіпотезу. Розподіл є нормальним.\")"
   ],
   "metadata": {
    "collapsed": false,
    "ExecuteTime": {
     "end_time": "2023-11-01T14:48:02.643323400Z",
     "start_time": "2023-11-01T14:48:02.308208400Z"
    }
   }
  },
  {
   "cell_type": "markdown",
   "source": [
    "Так як обоє наборів даних не розподілені за нормальним законом використаємо критерій Спірмену."
   ],
   "metadata": {
    "collapsed": false
   }
  },
  {
   "cell_type": "code",
   "execution_count": 15,
   "outputs": [
    {
     "name": "stdout",
     "output_type": "stream",
     "text": [
      "Коефіцієнт кореляції Спірмена: -0.15689005618238575\n",
      "P-значення: 0.02018573778960892\n"
     ]
    }
   ],
   "source": [
    "corr, p_value = stats.spearmanr(for_alco, for_food)\n",
    "\n",
    "print(\"Коефіцієнт кореляції Спірмена:\", corr)\n",
    "print(\"P-значення:\", p_value)"
   ],
   "metadata": {
    "collapsed": false,
    "ExecuteTime": {
     "end_time": "2023-11-01T14:48:02.646322700Z",
     "start_time": "2023-11-01T14:48:02.321764300Z"
    }
   }
  },
  {
   "cell_type": "code",
   "execution_count": 16,
   "outputs": [
    {
     "name": "stdout",
     "output_type": "stream",
     "text": [
      "Кореляція між витратами на їжу та на алкоголь значуща.\n"
     ]
    }
   ],
   "source": [
    "if p_value < alpha:\n",
    "    print(\"Кореляція між витратами на їжу та на алкоголь значуща.\")\n",
    "else:\n",
    "    print(\"Кореляція між витратами на їжу та на алкоголь не значуща.\")"
   ],
   "metadata": {
    "collapsed": false,
    "ExecuteTime": {
     "end_time": "2023-11-01T14:48:02.647833200Z",
     "start_time": "2023-11-01T14:48:02.343984100Z"
    }
   }
  },
  {
   "cell_type": "markdown",
   "source": [
    "## 4. Перевірити за допомогою статистичних гіпотез чи більші витрати на транспорт в сім’ях з двома дітьми, ніж з однією."
   ],
   "metadata": {
    "collapsed": false
   }
  },
  {
   "cell_type": "code",
   "execution_count": 17,
   "outputs": [
    {
     "data": {
      "text/plain": "4      0.2403\n5      0.0955\n6      0.0227\n7      0.0000\n8      0.0433\n        ...  \n205    0.1495\n206    0.1526\n207    0.1568\n210    0.4713\n216    0.1408\nName: wtrans, Length: 88, dtype: float64"
     },
     "execution_count": 17,
     "metadata": {},
     "output_type": "execute_result"
    }
   ],
   "source": [
    "with_1_children = df[df['children'] == 1]['wtrans']\n",
    "with_1_children"
   ],
   "metadata": {
    "collapsed": false,
    "ExecuteTime": {
     "end_time": "2023-11-01T14:48:02.688139600Z",
     "start_time": "2023-11-01T14:48:02.351156100Z"
    }
   }
  },
  {
   "cell_type": "code",
   "execution_count": 18,
   "outputs": [
    {
     "data": {
      "text/plain": "0      0.1458\n1      0.1215\n2      0.2063\n3      0.0652\n10     0.0672\n        ...  \n213    0.0765\n214    0.1564\n215    0.0003\n217    0.0848\n218    0.0147\nName: wtrans, Length: 131, dtype: float64"
     },
     "execution_count": 18,
     "metadata": {},
     "output_type": "execute_result"
    }
   ],
   "source": [
    "with_2_childrens = df[df['children'] == 2]['wtrans']\n",
    "with_2_childrens"
   ],
   "metadata": {
    "collapsed": false,
    "ExecuteTime": {
     "end_time": "2023-11-01T14:48:02.689149700Z",
     "start_time": "2023-11-01T14:48:02.368196200Z"
    }
   }
  },
  {
   "cell_type": "code",
   "execution_count": 19,
   "outputs": [
    {
     "name": "stdout",
     "output_type": "stream",
     "text": [
      "Середнє значення витрат на транспорт, де 1 дитина: 0.119475\n",
      "Сумарне значення витрат на транспорт, де 1 дитина: 10.513799999999998\n",
      "Середнє значення витрат на транспорт, де 2 дитини: 0.12215725190839695\n",
      "Сумарне значення витрат на транспорт, де 2 дитини: 16.002600000000008\n"
     ]
    }
   ],
   "source": [
    "print('Середнє значення витрат на транспорт, де 1 дитина:', mean(with_1_children))\n",
    "print('Сумарне значення витрат на транспорт, де 1 дитина:', sum(with_1_children))\n",
    "print('Середнє значення витрат на транспорт, де 2 дитини:', mean(with_2_childrens))\n",
    "print('Сумарне значення витрат на транспорт, де 2 дитини:', sum(with_2_childrens))"
   ],
   "metadata": {
    "collapsed": false,
    "ExecuteTime": {
     "end_time": "2023-11-01T14:48:02.689149700Z",
     "start_time": "2023-11-01T14:48:02.385739200Z"
    }
   }
  },
  {
   "cell_type": "markdown",
   "source": [
    "### Нуᴫьова гіпотеза (H0)꞉ витрати на транспорт в сім’ях з двома і з однією дитиною однакові.\n",
    "### Альтернативна гіпотеза (H1)꞉ витрати на транспорт в сім’ях з двома дітьми більші, ніж з однією дитиною."
   ],
   "metadata": {
    "collapsed": false
   }
  },
  {
   "cell_type": "code",
   "execution_count": 20,
   "outputs": [
    {
     "name": "stdout",
     "output_type": "stream",
     "text": [
      "T-статистика: -0.18650007392150153\n",
      "P-значення: 0.4261134283731618\n"
     ]
    }
   ],
   "source": [
    "t_statistic, p_value = stats.ttest_ind(with_1_children, with_2_childrens, alternative='less')\n",
    "\n",
    "\n",
    "print(\"T-статистика:\", t_statistic)\n",
    "print(\"P-значення:\", p_value)"
   ],
   "metadata": {
    "collapsed": false,
    "ExecuteTime": {
     "end_time": "2023-11-01T14:48:02.690161900Z",
     "start_time": "2023-11-01T14:48:02.399416700Z"
    }
   }
  },
  {
   "cell_type": "code",
   "execution_count": 21,
   "outputs": [
    {
     "name": "stdout",
     "output_type": "stream",
     "text": [
      "Витрати на транспорт в сім’ях з двома і з однією дитиною однакові. (Приймаємо нульову гіпотезу - не має достатніх доказів)\n"
     ]
    }
   ],
   "source": [
    "if p_value < alpha:\n",
    "    print(\"Витрати на транспорт в сім’ях з двома дітьми більші, ніж з однією дитиною. (Відхиляємо нульову гіпотезу)\")\n",
    "else:\n",
    "    print(\"Витрати на транспорт в сім’ях з двома і з однією дитиною однакові. (Приймаємо нульову гіпотезу - не має достатніх доказів)\")"
   ],
   "metadata": {
    "collapsed": false,
    "ExecuteTime": {
     "end_time": "2023-11-01T14:48:02.691162Z",
     "start_time": "2023-11-01T14:48:02.414962100Z"
    }
   }
  }
 ],
 "metadata": {
  "kernelspec": {
   "display_name": "Python 3",
   "language": "python",
   "name": "python3"
  },
  "language_info": {
   "codemirror_mode": {
    "name": "ipython",
    "version": 2
   },
   "file_extension": ".py",
   "mimetype": "text/x-python",
   "name": "python",
   "nbconvert_exporter": "python",
   "pygments_lexer": "ipython2",
   "version": "2.7.6"
  }
 },
 "nbformat": 4,
 "nbformat_minor": 0
}
